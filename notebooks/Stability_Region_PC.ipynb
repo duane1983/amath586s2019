{
 "cells": [
  {
   "cell_type": "markdown",
   "metadata": {},
   "source": [
    "# Stability region for a simple Predictor-Corrector method\n",
    "\n",
    "[AMath 586, Spring Quarter 2019](http://staff.washington.edu/rjl/classes/am586s2019/) at the University of Washington. For other notebooks, see [Index.ipynb](Index.ipynb) or the [Index of all notebooks on Github](https://github.com/rjleveque/amath586s2019/blob/master/notebooks/Index.ipynb).\n",
    "\n",
    "Plot the region of absolute stability for the Predictor-Corrector method based on Forward and Backward Euler,\n",
    "\n",
    "\\begin{align*}\n",
    "&\\hat U^0 = U^n + kf(U^n)\\\\\n",
    "&\\text{for} ~j = 0,~1,~\\ldots,~N-1\\\\\n",
    "&\\qquad \\hat U^{j+1} = U^n + kf(\\hat U^j)\\\\\n",
    "&\\qquad \\text{end}\\\\\n",
    "&U^{n+1} = \\hat U^N.\n",
    "\\end{align*}\n",
    "\n",
    "The general approach is to apply the method to $u' = \\lambda u$ with time step $k$ to obtain $U^{n+1} = R(z) U^n$.\n",
    "This gives \n",
    "\n",
    "$$\n",
    "R(z) = 1 + z + z^2 + \\cdots + z^{N+1} = \\frac{1-z^{N+2}}{1-z}.\n",
    "$$\n",
    "\n",
    "Then evaluate $|R(z)|$ on a grid of points in the complex plane and do a filled contour plot that shows the regions where $|R(z)| \\leq 1$.   "
   ]
  },
  {
   "cell_type": "code",
   "execution_count": null,
   "metadata": {},
   "outputs": [],
   "source": [
    "%pylab inline"
   ]
  },
  {
   "cell_type": "code",
   "execution_count": null,
   "metadata": {
    "collapsed": false
   },
   "outputs": [],
   "source": [
    "#seterr(divide='ignore', invalid='ignore')  # suppress divide by zero warnings"
   ]
  },
  {
   "cell_type": "code",
   "execution_count": null,
   "metadata": {},
   "outputs": [],
   "source": [
    "from ipywidgets import interact"
   ]
  },
  {
   "cell_type": "code",
   "execution_count": null,
   "metadata": {},
   "outputs": [],
   "source": [
    "def plotS(R, axisbox = [-2, 2, -2, 2], npts=500):  \n",
    "    \"\"\"\n",
    "    Compute |R(z)| over a fine grid on the region specified by axisbox\n",
    "    and do a contour plot with contourf (filled contours)\n",
    "    to show the region of absolute stability.\n",
    "    \"\"\"\n",
    "\n",
    "    xa, xb, ya, yb = axisbox\n",
    "    x = linspace(xa,xb,npts)\n",
    "    y = linspace(ya,yb,npts)\n",
    "    X,Y = meshgrid(x,y)\n",
    "    Z = X + 1j*Y\n",
    "    Rval = R(Z)\n",
    "    Rabs = abs(Rval)\n",
    "    \n",
    "    # plot interior, exterior, as green and white:\n",
    "    levels = [-1e9,1,1e9]\n",
    "    CS1 = contourf(X, Y, Rabs, levels, colors = ('g', 'w'))\n",
    "\n",
    "    # plot boundary as a black curve:\n",
    "    CS2 = contour(X, Y, Rabs, [1,], colors = ('k',), linewidths = (2,))\n",
    "    \n",
    "    title('Region of absolute stability')\n",
    "    grid(True)\n",
    "    plot([xa,xb],[0,0],'k')  # x-axis\n",
    "    plot([0,0],[ya,yb],'k')  # y-axis\n",
    "\n",
    "    axis('scaled')  # scale x and y same so that circles are circular\n",
    "    axis(axisbox)   # set limits"
   ]
  },
  {
   "cell_type": "code",
   "execution_count": null,
   "metadata": {
    "collapsed": false
   },
   "outputs": [],
   "source": [
    "def plotS_PC(N):\n",
    "    def R(z):\n",
    "        # return Rz = 1 + z + z^2 + ... + z^(N+1) = (1 - z^(N+2)) / (1-z)\n",
    "        return (1 - z**(N+2)) / (1-z)\n",
    "     \n",
    "    plotS(R, npts=1000)\n",
    "\n",
    "    title('PC method N = %i' % N)"
   ]
  },
  {
   "cell_type": "code",
   "execution_count": null,
   "metadata": {},
   "outputs": [],
   "source": [
    "figure(figsize=(14,4))\n",
    "subplot(1,4,1)\n",
    "plotS_PC(5)\n",
    "subplot(1,4,2)\n",
    "plotS_PC(10)\n",
    "subplot(1,4,3)\n",
    "plotS_PC(20)\n",
    "subplot(1,4,4)\n",
    "plotS_PC(50)"
   ]
  },
  {
   "cell_type": "markdown",
   "metadata": {},
   "source": [
    "## The limiting region\n",
    "\n",
    "As $N \\rightarrow \\infty$, the stability region appears to approach the intersection of the unit circle and the stability region of the backward Euler method, which is the exterior of the circle of radius 1 centered at $z=1$.  This makes sense since (a) the P-C iteration converges only if $|z| \\leq 1$ and (b) if it does converge then it converges to the value $U^{n+1}$ that solves the implicit equation defining the backward Euler method. \n",
    "\n",
    "### The blobs on the unit circle\n",
    "\n",
    "Note that the stability region seems to also include an increasing number of small blobs equally spaced around the unit circle.  This is because, for any finite $N$, the function $R(z)$ is given by\n",
    "\n",
    "$$\n",
    "R(z) = \\frac{1-z^{N+2}}{1-z}.\n",
    "$$\n",
    "\n",
    "If $|z|<1$ then at points outside the stability region of backward Euler the limiting value $1/(1-z)$ is greater than 1 in modulus, but for finite $N$ the quantity $1 - z^{N+2}$ in the numerator *vanishes* if $z^{N+2} = 1$, i.e., at the $N+2$ roots of unity $\\exp({2\\pi ij/(N+2)})$ for $j = 1, 2, \\ldots,~ N+2$.  These points are equally spaced around the unit circle and the plot below confirms that the blobs are centered around these points, which are expressed as $\\omega^j$ where $\\omega = \\exp({2\\pi i/(N+2)})$."
   ]
  },
  {
   "cell_type": "code",
   "execution_count": null,
   "metadata": {},
   "outputs": [],
   "source": [
    "figure(figsize=(10,10))\n",
    "\n",
    "N = 50\n",
    "plotS_PC(N)\n",
    "\n",
    "omega = exp(2*pi*1j/(N+2))\n",
    "roots_of_unity = omega**range(1,N+3)\n",
    "plot(real(roots_of_unity), imag(roots_of_unity), 'rx', \n",
    "     markersize=5, label='roots of unity')\n",
    "legend(fontsize=15)"
   ]
  },
  {
   "cell_type": "markdown",
   "metadata": {},
   "source": [
    "Note also that half way between each of the roots of unity, at $z = \\exp({2\\pi i(j+1/2)/(N+2)})$, we have $z^{N+2} = \\exp(\\pi i) = -1$ and so $R(z) = 2/(1-z)$.  Near these points $|R(z)| >1$ which explains the scalloped shape of the stability region where it extends out beyond the unit circle a little bit around the roots of unity in the plot above, but then inside the unit circle in between.\n",
    "\n",
    "These blobs vanish in the limit as $N \\rightarrow \\infty$.\n",
    "\n",
    "Note that letting $N\\rightarrow \\infty$ does not entirely make sense in the context of the predictor-corrector method, since this means taking an infinite number of iterations of the corrector in each time step.  In practice we would iterate until the fixed point iteration converges to within some tolerance.  This can only happen if $|z|<1$ so the stability region for the full method is contained in the open unit disc.  "
   ]
  }
 ],
 "metadata": {
  "kernelspec": {
   "display_name": "Python 2",
   "language": "python",
   "name": "python2"
  },
  "language_info": {
   "codemirror_mode": {
    "name": "ipython",
    "version": 3
   },
   "file_extension": ".py",
   "mimetype": "text/x-python",
   "name": "python",
   "nbconvert_exporter": "python",
   "pygments_lexer": "ipython3",
   "version": "3.6.2"
  }
 },
 "nbformat": 4,
 "nbformat_minor": 1
}
