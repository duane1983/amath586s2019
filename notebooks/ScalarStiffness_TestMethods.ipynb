{
 "cells": [
  {
   "cell_type": "markdown",
   "metadata": {},
   "source": [
    "# Test some numerical methods on a stiff scalar problem\n",
    "\n",
    "\n",
    "[AMath 586, Spring Quarter 2019](http://staff.washington.edu/rjl/classes/am586s2019/) at the University of Washington. For other notebooks, see [Index.ipynb](Index.ipynb) or the [Index of all notebooks on Github](https://github.com/rjleveque/amath586s2019/blob/master/notebooks/Index.ipynb).\n",
    "\n",
    "This notebook shows the numerical solution to the ODE\n",
    "\n",
    "$$\n",
    "u'(t) = \\lambda(u(t)-\\cos(t)) - \\sin(t), \\qquad u(t_0) = \\eta\n",
    "$$\n",
    "\n",
    "as $t_0, \\eta,$ and $\\lambda$ are varied.  This ODE is used in Examples 8.3 of [the textbook](http://staff.washington.edu/rjl/fdmbook/) to illustrate the need for L-stable methods.\n",
    "\n",
    "The exact solution is \n",
    "\n",
    "$$\n",
    "u(t) = \\cos(t) + \\exp(\\lambda(t-t_0))(\\eta - \\cos(t_0)).\n",
    "$$\n",
    "\n",
    "Note in particular that if $u(0)=1$ is specified then the solution is just $u(t)=\\cos(t)$ and if $\\lambda=0$ then other solutions remain parallel to this, since in this case the ODE $u'(t)=-\\sin(t)$ has solution $u(t) = \\cos(t) + (\\eta - \\cos(t_0))$. Note that in this case $f(u,t)$ is independent of $u$ and the ODE can be solved by simple integration. \n",
    "\n",
    "If $\\lambda<0$ then solutions decay towards this \"slow solution\".  This equation exhibits *stiffness* when $\\lambda$ is very negative and we wish to compute the solution for over times that are long relative to $-1/\\lambda$.\n",
    "\n",
    "This exact solution is explored in the notebook [ScalarStiffness.ipynb](ScalarStiffness.ipynb)."
   ]
  },
  {
   "cell_type": "code",
   "execution_count": null,
   "metadata": {},
   "outputs": [],
   "source": [
    "%matplotlib inline"
   ]
  },
  {
   "cell_type": "code",
   "execution_count": null,
   "metadata": {},
   "outputs": [],
   "source": [
    "from pylab import *\n",
    "from ipywidgets import interact, IntSlider, FloatSlider"
   ]
  },
  {
   "cell_type": "code",
   "execution_count": null,
   "metadata": {},
   "outputs": [],
   "source": [
    "tfinal = 6*pi\n",
    "def utrue(t0, eta, lam):\n",
    "    t = linspace(t0,tfinal,1000)\n",
    "    u = cos(t) + exp(lam*(t-t0))*(eta - cos(t0))\n",
    "    return t,u"
   ]
  },
  {
   "cell_type": "markdown",
   "metadata": {},
   "source": [
    "## Forward Euler"
   ]
  },
  {
   "cell_type": "code",
   "execution_count": null,
   "metadata": {},
   "outputs": [],
   "source": [
    "def forward_euler(nsteps, eta, lam):\n",
    "    from scipy.optimize import fsolve\n",
    "                   \n",
    "    f = lambda u,t: lam*(u-cos(t)) - sin(t)\n",
    "    t = linspace(0, tfinal, nsteps+1)\n",
    "    dt = t[1] - t[0]\n",
    "    U = empty((nsteps+1))  # array for computed solution\n",
    "    U[0] = eta\n",
    "    \n",
    "    for n in range(nsteps):      \n",
    "        Un = U[n]\n",
    "        tn = t[n]   \n",
    "        U[n+1] = Un + dt*f(Un, tn)\n",
    "    \n",
    "    figure(figsize=(10,4))\n",
    "    axis([-1,tfinal, -3,3])\n",
    "    tfine,ufine = utrue(0., eta, lam)\n",
    "    plot(tfine, ufine, 'k', label='true solution')\n",
    "    plot(t, U, 'bo-', label='Forward Euler')\n",
    "    legend(loc='lower right')\n",
    "    title('Forward Euler method with $k = %g, \\lambda = %g, \\quad k\\lambda = %g$' \\\n",
    "          % (dt,lam, dt*lam))"
   ]
  },
  {
   "cell_type": "markdown",
   "metadata": {},
   "source": [
    "Forward Euler is absolutely stable only if $-2 \\leq k\\lambda \\leq 0$.  Here's a case where it is barely stable.  It looks ok if the initial data is $u(0) = 1$ so there is no rapid transient in the true solution, and because the time step is small enough that the one-step errors introduced are not too large:"
   ]
  },
  {
   "cell_type": "code",
   "execution_count": null,
   "metadata": {
    "scrolled": false
   },
   "outputs": [],
   "source": [
    "forward_euler(nsteps=95, eta=1, lam=-10)"
   ]
  },
  {
   "cell_type": "markdown",
   "metadata": {},
   "source": [
    "But if we solve the equation with the initial condition $u(0) = 0$, giving a rapid transient in the true solution, then the near-instability is apparent:"
   ]
  },
  {
   "cell_type": "code",
   "execution_count": null,
   "metadata": {},
   "outputs": [],
   "source": [
    "forward_euler(nsteps=95, eta=0, lam=-10)"
   ]
  },
  {
   "cell_type": "markdown",
   "metadata": {},
   "source": [
    "With a slightly larger timestep it goes unstable and the numerical solution grows exponentially:"
   ]
  },
  {
   "cell_type": "code",
   "execution_count": null,
   "metadata": {},
   "outputs": [],
   "source": [
    "forward_euler(nsteps=93, eta=0, lam=-10)"
   ]
  },
  {
   "cell_type": "markdown",
   "metadata": {},
   "source": [
    "## Trapezoidal method\n",
    "\n",
    "Next we implement the Trapezoidal method on this same problem."
   ]
  },
  {
   "cell_type": "code",
   "execution_count": null,
   "metadata": {},
   "outputs": [],
   "source": [
    "def trapezoid(nsteps, eta, lam):\n",
    "    from scipy.optimize import fsolve\n",
    "                   \n",
    "    f = lambda u,t: lam*(u-cos(t)) - sin(t)\n",
    "    t = linspace(0, tfinal, nsteps+1)\n",
    "    dt = t[1] - t[0]\n",
    "    U = empty((nsteps+1))  # array for computed solution\n",
    "    U[0] = eta\n",
    "    \n",
    "    for n in range(nsteps):      \n",
    "        Un = U[n]\n",
    "        tn = t[n]\n",
    "        tnp = t[n+1]\n",
    "        g = lambda u: u - Un - 0.5*dt*f(Un,tn) - 0.5*dt*f(u,tnp)\n",
    "        Unp = fsolve(g, Un)    \n",
    "        U[n+1] = Unp\n",
    "    \n",
    "    figure(figsize=(10,4))\n",
    "    axis([-1,tfinal, -3,3])\n",
    "    tfine,ufine = utrue(0., eta, lam)\n",
    "    plot(tfine, ufine, 'k', label='true solution')\n",
    "    plot(t, U, 'bo-', label='Trapezoid')\n",
    "    legend(loc='lower right')\n",
    "    title('Trapezoid method with $k = %g, \\lambda = %g, \\quad k\\lambda = %g$' \\\n",
    "          % (dt,lam, dt*lam))"
   ]
  },
  {
   "cell_type": "markdown",
   "metadata": {},
   "source": [
    "This method does much better with the parameters we used above for Forward Euler:"
   ]
  },
  {
   "cell_type": "code",
   "execution_count": null,
   "metadata": {},
   "outputs": [],
   "source": [
    "trapezoid(nsteps=93, eta=0, lam=-10)"
   ]
  },
  {
   "cell_type": "markdown",
   "metadata": {},
   "source": [
    "The Trapezoid method is A-stable and remains stable even when $k\\lambda \\rightarrow -\\infty$.  But it is not L-stable, and $R(z) \\rightarrow -1$ as $|z| \\rightarrow \\infty$.  Hence if $|k\\lambda|$ is very large we expect that a rapid transient will not be damped but rather will oscillate:"
   ]
  },
  {
   "cell_type": "code",
   "execution_count": null,
   "metadata": {
    "scrolled": false
   },
   "outputs": [],
   "source": [
    "trapezoid(nsteps=80, eta=0, lam=-1000)"
   ]
  },
  {
   "cell_type": "markdown",
   "metadata": {},
   "source": [
    "Backward Euler or the second-order accurate TR-BDF2 method would both do better in this case, since they are L-stable."
   ]
  }
 ],
 "metadata": {
  "kernelspec": {
   "display_name": "Python 3",
   "language": "python",
   "name": "python3"
  },
  "language_info": {
   "codemirror_mode": {
    "name": "ipython",
    "version": 3
   },
   "file_extension": ".py",
   "mimetype": "text/x-python",
   "name": "python",
   "nbconvert_exporter": "python",
   "pygments_lexer": "ipython3",
   "version": "3.6.5"
  }
 },
 "nbformat": 4,
 "nbformat_minor": 2
}
