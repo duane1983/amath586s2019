{
 "cells": [
  {
   "cell_type": "markdown",
   "metadata": {},
   "source": [
    "# Stability regions of some 1-step methods\n",
    "\n",
    "[AMath 586, Spring Quarter 2019](http://staff.washington.edu/rjl/classes/am586s2019/) at the University of Washington. For other notebooks, see [Index.ipynb](Index.ipynb) or the [Index of all notebooks on Github](https://github.com/rjleveque/amath586s2019/blob/master/notebooks/Index.ipynb).\n",
    "\n",
    "Plot the region of absolute stability for various 1-step methods.  \n",
    "\n",
    "The general approach is to apply the method to $u' = \\lambda u$ with time step $k$ to obtain $U^{n+1} = R(z) U^n$, where $R(z)$ is a rational function of $z=k\\lambda$ (a polynomial for an explicit method).  Then evaluate $|R(z)|$ on a grid of points in the complex plane and do a filled contour plot that shows the regions where $|R(z)| \\leq 1$.   "
   ]
  },
  {
   "cell_type": "code",
   "execution_count": null,
   "metadata": {},
   "outputs": [],
   "source": [
    "%pylab inline"
   ]
  },
  {
   "cell_type": "code",
   "execution_count": null,
   "metadata": {},
   "outputs": [],
   "source": [
    "seterr(divide='ignore', invalid='ignore')  # suppress divide by zero warnings"
   ]
  },
  {
   "cell_type": "code",
   "execution_count": null,
   "metadata": {},
   "outputs": [],
   "source": [
    "from ipywidgets import interact"
   ]
  },
  {
   "cell_type": "code",
   "execution_count": null,
   "metadata": {},
   "outputs": [],
   "source": [
    "def plotS(R, axisbox = [-10, 10, -10, 10], npts=500):  \n",
    "    \"\"\"\n",
    "    Compute |R(z)| over a fine grid on the region specified by axisbox\n",
    "    and do a contour plot with contourf (filled contours)\n",
    "    to show the region of absolute stability.\n",
    "    \"\"\"\n",
    "\n",
    "    xa, xb, ya, yb = axisbox\n",
    "    x = linspace(xa,xb,npts)\n",
    "    y = linspace(ya,yb,npts)\n",
    "    X,Y = meshgrid(x,y)\n",
    "    Z = X + 1j*Y\n",
    "    Rval = R(Z)\n",
    "    Rabs = abs(Rval)\n",
    "    \n",
    "    # plot interior, exterior, as green and white:\n",
    "    levels = [-1e9,1,1e9]\n",
    "    CS1 = contourf(X, Y, Rabs, levels, colors = ('g', 'w'))\n",
    "\n",
    "    # plot boundary as a black curve:\n",
    "    CS2 = contour(X, Y, Rabs, [1,], colors = ('k',), linewidths = (2,))\n",
    "    \n",
    "    title('Region of absolute stability')\n",
    "    grid(True)\n",
    "    plot([xa,xb],[0,0],'k')  # x-axis\n",
    "    plot([0,0],[ya,yb],'k')  # y-axis\n",
    "\n",
    "    axis('scaled')  # scale x and y same so that circles are circular\n",
    "    axis(axisbox)   # set limits"
   ]
  },
  {
   "cell_type": "code",
   "execution_count": null,
   "metadata": {},
   "outputs": [],
   "source": [
    "R = lambda z: 1+z\n",
    "plotS(R, axisbox=[-5,5,-5,5])"
   ]
  },
  {
   "cell_type": "markdown",
   "metadata": {},
   "source": [
    "## Theta Method\n",
    "\n",
    "The Theta Method is\n",
    "\n",
    "$$U^{n+1} = U^n + k[(1-\\theta)f(U^n) + \\theta f(U^{n+1}]. $$\n",
    "\n",
    "The right hand side is a convex combination of $f(U^n)$ and $f(U^{n+1})$.  Special cases are:\n",
    "\n",
    " - Forward Euler: $\\theta = 0$,\n",
    " - Trapezoid: $\\theta = 1/2$,\n",
    " - Backward Euler: $\\theta = 1$.\n",
    " \n",
    "Note how the region of absolute stability varies with $\\theta$, and that the method is A-stable for $\\theta \\geq 1/2$."
   ]
  },
  {
   "cell_type": "code",
   "execution_count": null,
   "metadata": {},
   "outputs": [],
   "source": [
    "def plotS_theta(theta):\n",
    "    R = lambda z: (1. + (1-theta)*z) / (1-theta*z)\n",
    "    plotS(R, npts=50)  # use fewer points so interact works well"
   ]
  },
  {
   "cell_type": "code",
   "execution_count": null,
   "metadata": {},
   "outputs": [],
   "source": [
    "interact(plotS_theta, theta=(0,1,.1));"
   ]
  },
  {
   "cell_type": "markdown",
   "metadata": {},
   "source": [
    "## Taylor series methods\n",
    "\n",
    "When applied to $u' = \\lambda u$, the $p$th order Taylor series method gives $R(z)$ equal to the first $p+1$ terms of the Taylor series expansion of $e^z = \\sum_{j=0}^\\infty z^j/j!$."
   ]
  },
  {
   "cell_type": "code",
   "execution_count": null,
   "metadata": {},
   "outputs": [],
   "source": [
    "def plotS_TS(r):\n",
    "    def R(z):\n",
    "        # return Rz = 1 + z + 0.5z^2 + ... + (1/r!) z^r\n",
    "        Rz = 1.\n",
    "        term = 1.\n",
    "        for j in range(1,r+1):\n",
    "            term = term * z/float(j)\n",
    "            Rz = Rz + term\n",
    "        return Rz\n",
    "            \n",
    "    plotS(R, npts=500)  # use fewer points so interact works well\n",
    "    title('Taylor series method r = %i' % r)"
   ]
  },
  {
   "cell_type": "code",
   "execution_count": null,
   "metadata": {},
   "outputs": [],
   "source": [
    "interact(plotS_TS, r=(1,20,1));"
   ]
  }
 ],
 "metadata": {
  "kernelspec": {
   "display_name": "Python 2",
   "language": "python",
   "name": "python2"
  },
  "language_info": {
   "codemirror_mode": {
    "name": "ipython",
    "version": 3
   },
   "file_extension": ".py",
   "mimetype": "text/x-python",
   "name": "python",
   "nbconvert_exporter": "python",
   "pygments_lexer": "ipython3",
   "version": "3.6.5"
  }
 },
 "nbformat": 4,
 "nbformat_minor": 1
}
