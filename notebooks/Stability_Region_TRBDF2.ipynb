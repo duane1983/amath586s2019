{
 "cells": [
  {
   "cell_type": "markdown",
   "metadata": {},
   "source": [
    "# Stability region for TR-BDF2\n",
    "\n",
    "[AMath 586, Spring Quarter 2019](http://staff.washington.edu/rjl/classes/am586s2019/) at the University of Washington. For other notebooks, see [Index.ipynb](Index.ipynb) or the [Index of all notebooks on Github](https://github.com/rjleveque/amath586s2019/blob/master/notebooks/Index.ipynb).\n",
    "\n",
    "Plot the region of absolute stability for the TR-BDF2 method.\n",
    "\n",
    "The general approach is to apply the method to $u' = \\lambda u$ with time step $k$ to obtain $U^{n+1} = R(z) U^n$, where $R(z)$ is a rational function of $z=k\\lambda$ (a polynomial for an explicit method).  Then evaluate $|R(z)|$ on a grid of points in the complex plane and do a filled contour plot that shows the regions where $|R(z)| \\leq 1$.   "
   ]
  },
  {
   "cell_type": "code",
   "execution_count": null,
   "metadata": {},
   "outputs": [],
   "source": [
    "%pylab inline"
   ]
  },
  {
   "cell_type": "code",
   "execution_count": null,
   "metadata": {},
   "outputs": [],
   "source": [
    "#seterr(divide='ignore', invalid='ignore')  # suppress divide by zero warnings"
   ]
  },
  {
   "cell_type": "code",
   "execution_count": null,
   "metadata": {
    "collapsed": false
   },
   "outputs": [],
   "source": [
    "def plotS(R, axisbox = [-10, 10, -10, 10], npts=500):  \n",
    "    \"\"\"\n",
    "    Compute |R(z)| over a fine grid on the region specified by axisbox\n",
    "    and do a contour plot with contourf (filled contours)\n",
    "    to show the region of absolute stability.\n",
    "    \"\"\"\n",
    "\n",
    "    xa, xb, ya, yb = axisbox\n",
    "    x = linspace(xa,xb,npts)\n",
    "    y = linspace(ya,yb,npts)\n",
    "    X,Y = meshgrid(x,y)\n",
    "    Z = X + 1j*Y\n",
    "    Rval = R(Z)\n",
    "    Rabs = abs(Rval)\n",
    "    \n",
    "    # plot interior, exterior, as green and white:\n",
    "    levels = [-1e9,1,1e9]\n",
    "    CS1 = contourf(X, Y, Rabs, levels, colors = ('g', 'w'))\n",
    "\n",
    "    # plot boundary as a black curve:\n",
    "    CS2 = contour(X, Y, Rabs, [1,], colors = ('k',), linewidths = (2,))\n",
    "    \n",
    "    title('Region of absolute stability')\n",
    "    grid(True)\n",
    "    plot([xa,xb],[0,0],'k')  # x-axis\n",
    "    plot([0,0],[ya,yb],'k')  # y-axis\n",
    "\n",
    "    axis('scaled')  # scale x and y same so that circles are circular\n",
    "    axis(axisbox)   # set limits"
   ]
  },
  {
   "cell_type": "code",
   "execution_count": null,
   "metadata": {},
   "outputs": [],
   "source": [
    "R = lambda z: (1 + 5/12.*z) / (1 - 7/12.*z + 1/12.*z**2)\n",
    "plotS(R, axisbox=[-5,15,-10,10])"
   ]
  },
  {
   "cell_type": "markdown",
   "metadata": {},
   "source": [
    "## Boundary locus approach\n",
    "\n",
    "Recall that for a LMM we can use the Boundary Locus method to find all points that could lie on the boundary of the stability region. We can try something similar for TR-BDF2.  If a point $z$ lies on the boundary of $S$ then $|R(z)| = 1$ and so $R(z) = e^{i\\theta}$ for some $\\theta$ in $[0, 2\\pi]$.  For a LMM this gave an explicit formula for $z(\\theta)$ that could be plotted in the complex plane.  For TR-BDF2, since $R(z)$ is a rational function with a quadratic denominator, we can multiply by denominator and obtain a quadratic equation that would have to be solved for $z$ for each $\\theta$.  So there will be two curves $z_1(\\theta)$ and $z_2(\\theta)$ as $\\theta$ varies. \n",
    "\n",
    "The quadratic equation can be written as\n",
    "\n",
    "$$\n",
    "z^2 - (7 + 5\\omega) + 12(1-\\omega) = 0\n",
    "$$\n",
    "\n",
    "where $\\omega = e^{-i\\theta}$.  Using the quadratic formula then gives the following code:"
   ]
  },
  {
   "cell_type": "code",
   "execution_count": null,
   "metadata": {},
   "outputs": [],
   "source": [
    "theta = linspace(-pi,pi,500)\n",
    "\n",
    "omega = exp(-1j*theta)  # using 1j for the imaginary unit sqrt{-1}\n",
    "\n",
    "# roots of quadratic:\n",
    "s = sqrt((7+5*omega)**2 - 48*(1-omega))\n",
    "z1 = ((7 + 5*omega) - s)/2\n",
    "z2 = ((7 + 5*omega) + s)/2\n",
    "\n",
    "plot(real(z1), imag(z1), 'r', label='root z1')\n",
    "plot(real(z2), imag(z2), 'b--', label='root z2')\n",
    "\n",
    "axisbox=[-5,15,-10,10]\n",
    "xa, xb, ya, yb = axisbox\n",
    "title('Boundary Locus for region of absolute stability')\n",
    "grid(True)\n",
    "plot([xa,xb],[0,0],'k')  # x-axis\n",
    "plot([0,0],[ya,yb],'k')  # y-axis\n",
    "legend()\n",
    "axis('scaled')  # scale x and y same so that circles are circular\n",
    "axis(axisbox);   # set limits"
   ]
  },
  {
   "cell_type": "markdown",
   "metadata": {},
   "source": [
    "Note that the curves do cover the actual boundary of the stability region.  \n",
    "\n",
    "The vector of points `theta` above was chosen to go from $-\\pi$ to $\\pi$ so that each plot of $z_1$ and $z_2$ would result in a continuous curve.  Note that when $\\theta = 0$ the two roots are at $z_1 = 0$ and $z_2 = 12$, the midpoints of these curves.  Hence if we instead choose `theta` to go from 0 to $2\\pi$, the red curve, for example, would start at the origin, go move into the upper half plane, and then jump down to the complex conjugate of the uppermost red point, before returning smoothly to the origin.  These jumps show up if we simply plot the curves and could be confusing, as seen below."
   ]
  },
  {
   "cell_type": "code",
   "execution_count": null,
   "metadata": {},
   "outputs": [],
   "source": [
    "theta = linspace(0,2*pi,500)\n",
    "\n",
    "omega = exp(-1j*theta)  # using 1j for the imaginary unit sqrt{-1}\n",
    "\n",
    "# roots of quadratic:\n",
    "s = sqrt((7+5*omega)**2 - 48*(1-omega))\n",
    "z1 = ((7 + 5*omega) - s)/2\n",
    "z2 = ((7 + 5*omega) + s)/2\n",
    "\n",
    "plot(real(z1), imag(z1), 'r', label='root z1')\n",
    "plot(real(z2), imag(z2), 'b--', label='root z2')\n",
    "\n",
    "axisbox=[-5,15,-10,10]\n",
    "xa, xb, ya, yb = axisbox\n",
    "title('Boundary Locus for region of absolute stability')\n",
    "grid(True)\n",
    "plot([xa,xb],[0,0],'k')  # x-axis\n",
    "plot([0,0],[ya,yb],'k')  # y-axis\n",
    "legend()\n",
    "axis('scaled')  # scale x and y same so that circles are circular\n",
    "axis(axisbox);   # set limits"
   ]
  },
  {
   "cell_type": "code",
   "execution_count": null,
   "metadata": {
    "collapsed": false
   },
   "outputs": [],
   "source": []
  }
 ],
 "metadata": {
  "kernelspec": {
   "display_name": "Python 2",
   "language": "python",
   "name": "python2"
  },
  "language_info": {
   "codemirror_mode": {
    "name": "ipython",
    "version": 3
   },
   "file_extension": ".py",
   "mimetype": "text/x-python",
   "name": "python",
   "nbconvert_exporter": "python",
   "pygments_lexer": "ipython3",
   "version": "3.6.2"
  }
 },
 "nbformat": 4,
 "nbformat_minor": 1
}
