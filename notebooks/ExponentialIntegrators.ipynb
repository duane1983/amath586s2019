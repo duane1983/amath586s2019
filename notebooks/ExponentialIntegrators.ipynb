{
 "cells": [
  {
   "cell_type": "markdown",
   "metadata": {},
   "source": [
    "# Exponential Integrators\n",
    "\n",
    "[AMath 586, Spring Quarter 2019](http://staff.washington.edu/rjl/classes/am586s2019/) at the University of Washington. For other notebooks, see [Index.ipynb](Index.ipynb) or the [Index of all notebooks on Github](https://github.com/rjleveque/amath586s2019/blob/master/notebooks/Index.ipynb).\n",
    "\n",
    "This notebook gives a brief introduction to a class of ODE solvers called [exponential integrators](https://en.wikipedia.org/wiki/Exponential_integrator), focusing on the simples *Exponential Time Differencing (ETD)*  methods described by:\n",
    "\n",
    "- S.M. Cox and P.C. Matthews, *Exponential Time Differencing for Stiff Systems*, J. Comput. Phys. 176(2002), pp. 430-455. [[link]](https://pdfs.semanticscholar.org/9a47/a0c3f84a5aa1ef8016b8d9655951bc830933.pdf)\n",
    "\n",
    "For more discussion, see e.g. \n",
    "\n",
    "- M. Hochbruck and A. Ostermann,  *Exponential integrators*, Acta Numerica 19 (2010), 209-286. [[link]](https://doi.org/10.1017/S0962492910000048)"
   ]
  },
  {
   "cell_type": "code",
   "execution_count": null,
   "metadata": {},
   "outputs": [],
   "source": [
    "%matplotlib inline"
   ]
  },
  {
   "cell_type": "code",
   "execution_count": null,
   "metadata": {},
   "outputs": [],
   "source": [
    "from pylab import *\n",
    "from scipy.linalg import expm, solve"
   ]
  },
  {
   "cell_type": "markdown",
   "metadata": {},
   "source": [
    "The basic idea is write the ODE $u'(t) = f(u(t))$, for example, as $u'(t) = Au(t) + g(u(t))$, where the matrix $A$ captures much of the stiffness of the problem and eigenvalues of the remaining Jacobian $g'(u)$ stay closer to the origin.  Such a splitting naturally exists for some problems, or one might linearize in each time step.\n",
    "\n",
    "Then we use the fact that over a single time step the true solution satisfies\n",
    "\n",
    "$$\n",
    "u(t_{n+1}) = \\exp(Ak) u(t_n) + \\int_{t_n}^{t_{n+1}} \\exp(A(t_{n+1}-\\tau) g(u(\\tau)) \\, d\\tau.\n",
    "$$\n",
    "\n",
    "If $g$ were a function of $t$ this would be Duhamel's principle.  More generally it is sometimes called \"variation of parameters\" and no longer gives an explicit solution since $u(\\tau)$ comes into the integral.  But we can approximate the integral numerically using $U^n$ and either past values of $U^j$ or a multi-stage approach going forward, giving rise to many possible numerical methods.\n",
    "\n",
    "The simplest arises from approximating $g(u(\\tau)) \\approx g(U^n)$ over the time interval, yielding\n",
    "\n",
    "$$ \n",
    "U^{n+1} = \\exp(Ak) U^n + (\\exp(Ak) - I) A^{-1} g(U^n).\n",
    "$$\n",
    "\n",
    "This is exact if $g(u)=0$ while as $A \\rightarrow 0$ this approaches the forward Euler method on $u' = g(u)$."
   ]
  },
  {
   "cell_type": "markdown",
   "metadata": {},
   "source": [
    "## Absolute stability\n",
    "\n",
    "We now replace the test problem with $u' = cu + \\lambda u$ where $c$ corresponds to $A$ and is handled exactly while $\\lambda$ represents an eigenvalue of $g(u)$.  Applying the method gives\n",
    "\n",
    "\\begin{align*}\n",
    "U^{n+1} &=  e^{ck}U^n + \\frac 1 c \\left(e^{ck}-1\\right)\\lambda U^n\\\\\n",
    "        &= \\left( e^y + \\frac 1 y \\left(e^{y}-1\\right) z\\right) U^n\n",
    "\\end{align*}\n",
    "\n",
    "or $U^{n+1} = R(z,y) U^n$ where $y = ck$ and $z=\\lambda k$.  Since $c$ and $\\lambda$ could both be complex, stability region is now in four dimensional space.\n",
    "\n",
    "Below we show a typical stability region if we fix $y$ at some negative value and then consider what values of $z$ are allowed, natural in the study of stiff problems."
   ]
  },
  {
   "cell_type": "code",
   "execution_count": null,
   "metadata": {},
   "outputs": [],
   "source": [
    "def plotS(R, axisbox = [-10, 10, -10, 10], npts=500):  \n",
    "    \"\"\"\n",
    "    Compute |R(z)| over a fine grid on the region specified by axisbox\n",
    "    and do a contour plot with contourf (filled contours)\n",
    "    to show the region of absolute stability.\n",
    "    \"\"\"\n",
    "\n",
    "    xa, xb, ya, yb = axisbox\n",
    "    x = linspace(xa,xb,npts)\n",
    "    y = linspace(ya,yb,npts)\n",
    "    X,Y = meshgrid(x,y)\n",
    "    Z = X + 1j*Y\n",
    "    Rval = R(Z)\n",
    "    Rabs = abs(Rval)\n",
    "    \n",
    "    # plot interior, exterior, as green and white:\n",
    "    levels = [-1e9,1,1e9]\n",
    "    CS1 = contourf(X, Y, Rabs, levels, colors = ('g', 'w'))\n",
    "\n",
    "    # plot boundary as a black curve:\n",
    "    CS2 = contour(X, Y, Rabs, [1,], colors = ('k',), linewidths = (2,))\n",
    "    \n",
    "    title('Region of absolute stability')\n",
    "    grid(True)\n",
    "    plot([xa,xb],[0,0],'k')  # x-axis\n",
    "    plot([0,0],[ya,yb],'k')  # y-axis\n",
    "\n",
    "    axis('scaled')  # scale x and y same so that circles are circular\n",
    "    axis(axisbox)   # set limits"
   ]
  },
  {
   "cell_type": "code",
   "execution_count": null,
   "metadata": {},
   "outputs": [],
   "source": [
    "ck = -100.\n",
    "R = lambda z: exp(ck) + (exp(ck)-1)/ck * z\n",
    "rr = -ck+2\n",
    "plotS(R, axisbox = [-rr,rr, -rr,rr])"
   ]
  },
  {
   "cell_type": "markdown",
   "metadata": {},
   "source": [
    "## Try it on a stiff reaction system\n",
    "\n",
    "Consider the reactions \n",
    "\n",
    "\\begin{align*}\n",
    "&A \\stackrel{K_{1}}{\\rightarrow} B\\\\\n",
    "&B+C \\stackrel{K_{2}}{\\rightarrow} D\\\\\n",
    "&D \\stackrel{K_{3}}{\\rightarrow} A\\\\\n",
    "\\end{align*}\n",
    "\n",
    "which gives the nonlinear system\n",
    "\n",
    "\\begin{align*}\n",
    "u_0'(t) &= -K_1u_0(t) + K_3 u_3(t)\\\\\n",
    "u_1'(t) &= K_1u_0(t) - K_2 u_1(t)u_2(t)\\\\\n",
    "u_2'(t) &=  - K_2 u_1(t)u_2(t)\\\\\n",
    "u_3'(t) &= K_2 u_1(t)u_2(t) - K_3 u_3(t)\\\\\n",
    "\\end{align*}\n",
    "\n",
    "If $K_2$ is small relative to $K_1$ and/or $K_3$, then it may be possible to capture the stiff part with a linear system of equations."
   ]
  },
  {
   "cell_type": "code",
   "execution_count": null,
   "metadata": {},
   "outputs": [],
   "source": [
    "K1 = 100.\n",
    "K2 = 0.5\n",
    "K3 = 5.\n",
    "\n",
    "def f(u):\n",
    "    f0 = -K1*u[0] + K3*u[3]\n",
    "    f1 = K1*u[0] - K2*u[1]*u[2]\n",
    "    f2 = -K2*u[1]*u[2]\n",
    "    f3 = K2*u[1]*u[2] - K3*u[3]\n",
    "    return(array((f0,f1,f2,f3)))"
   ]
  },
  {
   "cell_type": "markdown",
   "metadata": {},
   "source": [
    "### Forward Euler\n",
    "\n",
    "First we apply Forward Euler to the full system to see when stability breaks down..."
   ]
  },
  {
   "cell_type": "code",
   "execution_count": null,
   "metadata": {},
   "outputs": [],
   "source": [
    "t0 = 0.\n",
    "tfinal = 2.\n",
    "eta = array((1,2,3,4))\n",
    "\n",
    "def euler(nsteps):\n",
    "    t = linspace(t0, tfinal, nsteps+1)\n",
    "    dt = t[1] - t[0]\n",
    "    U = empty((4,nsteps+1))  # array for computed solution\n",
    "    U[:,0] = eta\n",
    "    for n in range(nsteps):\n",
    "        U[:,n+1] = U[:,n] + dt * f(U[:,n])\n",
    "        \n",
    "    figure(figsize=(12,5))\n",
    "    plot(t, U[0,:],'k', label='u0')\n",
    "    plot(t, U[1,:],'b', label='u1')\n",
    "    plot(t, U[2,:],'r', label='u2')\n",
    "    plot(t, U[3,:],'c', label='u3')\n",
    "    xlim(t0,tfinal)\n",
    "    legend()  # uses the labels from the plot commands\n",
    "    title('%i steps, dt = %7.4f' % (nsteps, dt))"
   ]
  },
  {
   "cell_type": "markdown",
   "metadata": {},
   "source": [
    "With 300 timesteps we get a smooth solution:"
   ]
  },
  {
   "cell_type": "code",
   "execution_count": null,
   "metadata": {},
   "outputs": [],
   "source": [
    "euler(300)"
   ]
  },
  {
   "cell_type": "markdown",
   "metadata": {},
   "source": [
    "Since $K_1 = 100$ is the largest rate we would expect the eigenvalues of the Jacobian to be on the order of $-100$ and so Forward Euler is only stable if $k\\lambda > -2$ and we expect to need a time step around $k \\approx 2/100$ for stability.  To got up to time 2 we thus expect to need at least 100 time steps.  Indeed this is at the limit of stability, with fewer steps the solution grows exponentially: "
   ]
  },
  {
   "cell_type": "code",
   "execution_count": null,
   "metadata": {},
   "outputs": [],
   "source": [
    "euler(99)"
   ]
  },
  {
   "cell_type": "markdown",
   "metadata": {},
   "source": [
    "Note the oscillation since $1 + k\\lambda \\approx -1$.  Even with 150 time steps $1 + k\\lambda  < 0$ and there's an initial oscillation:"
   ]
  },
  {
   "cell_type": "code",
   "execution_count": null,
   "metadata": {},
   "outputs": [],
   "source": [
    "euler(150)"
   ]
  },
  {
   "cell_type": "markdown",
   "metadata": {},
   "source": [
    "### Test the exponential integrator\n",
    "\n",
    "We define the $A$ matrix by pulling out the constant part of the Jacobian, and then adding the identity matrix to make it nonsingular, since we need to use $A^{-1}$ in this integrator.  (Maybe there's a better splitting?)  \n",
    "\n",
    "We then define $g(u) = f(u) - Au$ to be what's left over, which is still a nonlinear function."
   ]
  },
  {
   "cell_type": "code",
   "execution_count": null,
   "metadata": {},
   "outputs": [],
   "source": [
    "A = array([[-K1,0,0,K3], [K1,0,0,0], [0,0,0,0], [0,0,0,-K3]]) + eye(4)\n",
    "\n",
    "def g(u):\n",
    "    return f(u) - A.dot(u)"
   ]
  },
  {
   "cell_type": "markdown",
   "metadata": {},
   "source": [
    "Note that `A.dot(u)` or equivalently `dot(A,u)` gives the matrix-vector product.  This is also used in the loop below.\n",
    "\n",
    "We also use  `expm` and `solve` from `scipy.linalg` for the matrix exponential and to solve a linear system: `solve(A,g)` gives $A^{-1}g$.\n",
    "\n",
    "Also note that `expAk_I = expm(A*dt) - eye(4)` is computed before the time stepping loop, so the matrix exponential is only computed once.  The updating formula has been rewritten as\n",
    "\n",
    "$$ \n",
    "U^{n+1} = U^n + (\\exp(Ak) - I) (U^n + A^{-1} g(U^n)).\n",
    "$$\n",
    "\n",
    "so that there is only one linear system solve and one matrix-vector multiply each time through the loop."
   ]
  },
  {
   "cell_type": "code",
   "execution_count": null,
   "metadata": {},
   "outputs": [],
   "source": [
    "t0 = 0.\n",
    "tfinal = 2.\n",
    "eta = array((1,2,3,4))\n",
    "\n",
    "def exp_euler(nsteps):\n",
    "    t = linspace(t0, tfinal, nsteps+1)\n",
    "    dt = t[1] - t[0]\n",
    "    U = empty((4,nsteps+1))  # array for computed solution\n",
    "    U[:,0] = eta\n",
    "    \n",
    "    expAk_I = expm(A*dt) - eye(4)\n",
    "    for n in range(nsteps):\n",
    "        Ainv_g = solve(A,g(U[:,n]))\n",
    "        U[:,n+1] = U[:,n] + dot(expAk_I, U[:,n] + Ainv_g)\n",
    "        \n",
    "    figure(figsize=(12,5))\n",
    "    plot(t, U[0,:],'k', label='u0')\n",
    "    plot(t, U[1,:],'b', label='u1')\n",
    "    plot(t, U[2,:],'r', label='u2')\n",
    "    plot(t, U[3,:],'c', label='u3')\n",
    "    xlim(t0,tfinal)\n",
    "    legend()  # uses the labels from the plot commands\n",
    "    title('%i steps, dt = %7.4f' % (nsteps, dt))"
   ]
  },
  {
   "cell_type": "markdown",
   "metadata": {},
   "source": [
    "Now we get nicer results with 150 steps:"
   ]
  },
  {
   "cell_type": "code",
   "execution_count": null,
   "metadata": {},
   "outputs": [],
   "source": [
    "exp_euler(150)"
   ]
  },
  {
   "cell_type": "markdown",
   "metadata": {},
   "source": [
    "And the method stays stable even with only 10 steps (though not very accurate at this point):"
   ]
  },
  {
   "cell_type": "code",
   "execution_count": null,
   "metadata": {},
   "outputs": [],
   "source": [
    "exp_euler(10)"
   ]
  },
  {
   "cell_type": "code",
   "execution_count": null,
   "metadata": {},
   "outputs": [],
   "source": []
  }
 ],
 "metadata": {
  "kernelspec": {
   "display_name": "Python 3",
   "language": "python",
   "name": "python3"
  },
  "language_info": {
   "codemirror_mode": {
    "name": "ipython",
    "version": 3
   },
   "file_extension": ".py",
   "mimetype": "text/x-python",
   "name": "python",
   "nbconvert_exporter": "python",
   "pygments_lexer": "ipython3",
   "version": "3.6.5"
  }
 },
 "nbformat": 4,
 "nbformat_minor": 2
}
