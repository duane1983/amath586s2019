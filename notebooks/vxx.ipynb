{
 "cells": [
  {
   "cell_type": "markdown",
   "metadata": {},
   "source": [
    "# Centered approximations to $v''(x)$\n",
    "\n",
    "\n",
    "[AMath 586, Spring Quarter 2019](http://staff.washington.edu/rjl/classes/am586s2019/) at the University of Washington. For other notebooks, see [Index.ipynb](Index.ipynb) or the [Index of all notebooks on Github](https://github.com/rjleveque/amath586s2019/blob/master/notebooks/Index.ipynb).\n",
    "\n",
    "This illustrates the centered difference approximation to the second derivative $v''(x)$ for a smooth function of $x$. This approximation is used for the spatial discretization of $u_{xx}(x,t)$ in solving PDEs."
   ]
  },
  {
   "cell_type": "code",
   "execution_count": null,
   "metadata": {},
   "outputs": [],
   "source": [
    "%pylab inline"
   ]
  },
  {
   "cell_type": "markdown",
   "metadata": {},
   "source": [
    "Suppose we are given a function $v(x)$ that is $2\\pi$-periodic, i.e. we know the values for $0 \\leq x \\leq 2\\pi$, and we wish to approximate the derivative $v\\prime(x)$ at points in this interval.  \n",
    "\n",
    "To be specific, choose $N$ equally spaced points $x_j = jh$ with equal spacing $h = 2\\pi / N$, for $j=1,~2,~\\ldots,~N$.  Then we know the discrete function values $v_j = v(x_j)$ and want to compute approximations $w_j\\approx v\\prime(x_j)$ or $z_j \\approx v\\prime\\prime(x_j)$.\n",
    "\n",
    "## Finite differences\n",
    "\n",
    "\n",
    "The centered difference approximation to $v''(x) = \\frac 1 {h^2} (v(x-h) - 2v(x) + v(x+h)) + O(h^2)$ can be written as $z = A v$ (so that $z_j \\approx v\\prime\\prime(x_j)$) with\n",
    "$$\n",
    "A = \\frac{1}{h^2}\n",
    "\\left(\\begin{array}[rrrrrr]\n",
    "-2&1\\\\\n",
    "1&-2&1\\\\\n",
    "&1&-2&1\\\\\n",
    "&&&\\ddots\\\\\n",
    "&&&1&-2&1\\\\\n",
    "&&&&1&-2\n",
    "\\end{array}\\right)\n",
    "$$"
   ]
  },
  {
   "cell_type": "markdown",
   "metadata": {},
   "source": [
    "## Python code "
   ]
  },
  {
   "cell_type": "markdown",
   "metadata": {},
   "source": [
    "We can use the `spdiags` function from `scipy.sparse` to set up a sparse matrix. \n"
   ]
  },
  {
   "cell_type": "code",
   "execution_count": null,
   "metadata": {
    "collapsed": false
   },
   "outputs": [],
   "source": [
    "from scipy.sparse import spdiags\n",
    "\n",
    "m = 9\n",
    "h = 1. / (m+1)\n",
    "x = linspace(h,m*h,m)  # interior grid points\n",
    "e = ones((m,1))\n",
    "data = hstack([e, -2*e, e]).T\n",
    "diags = [-1, 0, 1]\n",
    "T = spdiags(data, diags, m, m)\n",
    "A = (1./h**2) * T"
   ]
  },
  {
   "cell_type": "code",
   "execution_count": null,
   "metadata": {},
   "outputs": [],
   "source": [
    "print(\"With m = %i, h = %6.5f\" % (m,h))\n",
    "print(\"Interior grid points: \\n\", x)\n",
    "print(\"\\nA = \\n\", h**2 * A.todense())"
   ]
  },
  {
   "cell_type": "markdown",
   "metadata": {},
   "source": [
    "### Test this out\n",
    "\n",
    "Choose a function $v(x)$ with $v(0)=v(1)=0$ and work out the derivatives:"
   ]
  },
  {
   "cell_type": "code",
   "execution_count": null,
   "metadata": {
    "collapsed": false
   },
   "outputs": [],
   "source": [
    "v_0 = lambda x: sin(x*(x-1))\n",
    "v_1 = lambda x: (2*x-1)*cos(x*(x-1))\n",
    "v_2 = lambda x: -(2*x-1)**2 * sin(x*(x-1)) + 2*cos(x*(x-1))\n",
    "\n",
    "# fine grid for plotting function and true derivative:\n",
    "x_fine = linspace(0,1.,1000)  \n",
    "v_fine = v_0(x_fine)\n",
    "z_fine = v_2(x_fine)"
   ]
  },
  {
   "cell_type": "code",
   "execution_count": null,
   "metadata": {},
   "outputs": [],
   "source": [
    "def test_vxx(m):\n",
    "    h = 1. / (m+1)\n",
    "    x = linspace(h,m*h,m)  # interior grid points\n",
    "    e = ones((m,1))\n",
    "    data = hstack([e, -2*e, e]).T\n",
    "    diags = [-1, 0, 1]\n",
    "    T = spdiags(data, diags, m, m)\n",
    "    A = (1./h**2) * T\n",
    "    v = v_0(x)      # evaluate v(x_j)\n",
    "    z = A.dot(v)   # sparse matrix vector product A * v\n",
    "\n",
    "    figure(figsize=(15,5))\n",
    "    subplot(121)\n",
    "    plot(x_fine,v_2(x_fine))\n",
    "    plot(x,z,'ro')\n",
    "    title(\"v''(x) and approximation z\")\n",
    "\n",
    "    subplot(122)\n",
    "    error = z - v_2(x)\n",
    "    plot(x,error,'ro-')\n",
    "    title('h = %g, Max error = %g' % (h,norm(error,inf)))\n",
    "\n",
    "test_vxx(19)\n",
    "test_vxx(39)"
   ]
  },
  {
   "cell_type": "markdown",
   "metadata": {},
   "source": [
    "Note that reducing $h$ by a factor of 2 reduces the error by roughly a factor of 4, as expected since the approximation should be second order accurate.  \n",
    "\n",
    "If you tried this on a function that doesn't satisfy $v(0)=v(1)=0$ there would be large errors at the the boundaries unless you adjusted $Av$ to incorporate the boundary values properly."
   ]
  },
  {
   "cell_type": "markdown",
   "metadata": {},
   "source": [
    "## Periodic boundary conditions\n",
    "\n",
    "If we assume periodic boundary conditions, the matrix is \n",
    "$$\n",
    "A = \\frac{1}{h^2}\n",
    "\\left(\\begin{array}[rrrrrr]\n",
    "-2&1&&&&1\\\\\n",
    "1&-2&1\\\\\n",
    "&1&-2&1\\\\\n",
    "&&&\\ddots\\\\\n",
    "&&&1&-2&1\\\\\n",
    "1&&&&1&-2\n",
    "\\end{array}\\right)\n",
    "$$\n",
    "\n",
    "Now the grid has to include one boundary point or the other (not both).  Below we include the right boundary point."
   ]
  },
  {
   "cell_type": "code",
   "execution_count": null,
   "metadata": {},
   "outputs": [],
   "source": [
    "m = 9\n",
    "h = 1./(m+1)\n",
    "x = linspace(h,1,m+1)  # interior grid points and right boundary\n",
    "\n",
    "e = ones((m+1,1))\n",
    "data = hstack([e, e, -2*e, e, e]).T\n",
    "diags = [-m, -1, 0, 1, m]\n",
    "T = spdiags(data, diags, m+1, m+1)\n",
    "A_periodic = (1./h**2) * T"
   ]
  },
  {
   "cell_type": "markdown",
   "metadata": {},
   "source": [
    "For small `N` we can print the `D2` matrix without the $1/h^2$ factor so we can verify we did it right:"
   ]
  },
  {
   "cell_type": "code",
   "execution_count": null,
   "metadata": {},
   "outputs": [],
   "source": [
    "print(\"With m = %i, h = %6.5f\" % (m,h))\n",
    "print(\"There are %i grid points: \\n\" % (m+1), x)\n",
    "print(\"\\nA_periodic = \\n\", h**2 * A_periodic.todense())"
   ]
  },
  {
   "cell_type": "markdown",
   "metadata": {},
   "source": [
    "### Test  this out.\n",
    "\n",
    "Choose a function $v(x)$ with a smooth periodic extension and compute exact derivatives:"
   ]
  },
  {
   "cell_type": "code",
   "execution_count": null,
   "metadata": {},
   "outputs": [],
   "source": [
    "v_0 = lambda x: exp(sin(2*pi*x))\n",
    "v_1 = lambda x: 2*pi*cos(2*pi*x) * v_0(x)\n",
    "v_2 = lambda x: ((2*pi*cos(2*pi*x))**2 - 4*pi**2*sin(2*pi*x)) * v_0(x)\n",
    "\n",
    "# fine grid for plotting function and true derivative:\n",
    "x_fine = linspace(0,1.,1000)  \n",
    "v_fine = v_0(x_fine)\n",
    "z_fine = v_2(x_fine)"
   ]
  },
  {
   "cell_type": "code",
   "execution_count": null,
   "metadata": {},
   "outputs": [],
   "source": [
    "def test_vxx(m):\n",
    "    h = 1./(m+1)\n",
    "    x = linspace(h,1,m+1)  # interior grid points and right boundary\n",
    "\n",
    "    e = ones((m+1,1))\n",
    "    data = hstack([e, e, -2*e, e, e]).T\n",
    "    diags = [-m, -1, 0, 1, m]\n",
    "    T = spdiags(data, diags, m+1, m+1)\n",
    "    A_periodic = (1./h**2) * T\n",
    "\n",
    "    v = v_0(x)      # evaluate v(x_j)\n",
    "    z = A_periodic.dot(v)   # sparse matrix vector product A * v\n",
    "\n",
    "    figure(figsize=(15,5))\n",
    "    subplot(121)\n",
    "    plot(x_fine,v_2(x_fine))\n",
    "    plot(x,z,'ro')\n",
    "    title(\"v''(x) and approximation z\")\n",
    "\n",
    "    subplot(122)\n",
    "    error = z - v_2(x)\n",
    "    plot(x,error,'ro-')\n",
    "    title('h = %g, Max error = %g' % (h,norm(error,inf)))\n",
    "\n",
    "test_vxx(19)\n",
    "test_vxx(39)\n",
    "test_vxx(79)"
   ]
  },
  {
   "cell_type": "markdown",
   "metadata": {},
   "source": [
    "Again note that the error goes down by roughly a factor of 4 each time we double $m$."
   ]
  },
  {
   "cell_type": "code",
   "execution_count": null,
   "metadata": {
    "collapsed": false
   },
   "outputs": [],
   "source": []
  }
 ],
 "metadata": {
  "kernelspec": {
   "display_name": "Python 2",
   "language": "python",
   "name": "python2"
  },
  "language_info": {
   "codemirror_mode": {
    "name": "ipython",
    "version": 3
   },
   "file_extension": ".py",
   "mimetype": "text/x-python",
   "name": "python",
   "nbconvert_exporter": "python",
   "pygments_lexer": "ipython3",
   "version": "3.6.2"
  }
 },
 "nbformat": 4,
 "nbformat_minor": 1
}
