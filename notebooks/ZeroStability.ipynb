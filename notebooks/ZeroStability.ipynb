{
 "cells": [
  {
   "cell_type": "markdown",
   "metadata": {},
   "source": [
    "# Examples showing importance of zero-stability\n",
    "\n",
    "\n",
    "[AMath 586, Spring Quarter 2019](http://staff.washington.edu/rjl/classes/am586s2019/) at the University of Washington. For other notebooks, see [Index.ipynb](Index.ipynb) or the [Index of all notebooks on Github](https://github.com/rjleveque/amath586s2019/blob/master/notebooks/Index.ipynb).\n",
    "\n",
    "In this notebook we test 3 methods on a the simple test problem $u'(t) = u(t)$ with $u(0)=1$, for which the exact solution is $u(t) = e^t$, and examine how the computed solution and error behave as we decrease the time step.\n",
    "\n",
    "For Forward Euler and Midpoint, we observe that the error grows with time, but over a fixed time interval it converges to zero with $\\Delta t = k$.  These methods are not only consistent but also zero-stable.   Finally we test a method that is consistent but fails to be zero-stable and see that the method does not converge."
   ]
  },
  {
   "cell_type": "code",
   "execution_count": null,
   "metadata": {},
   "outputs": [],
   "source": [
    "%matplotlib inline"
   ]
  },
  {
   "cell_type": "markdown",
   "metadata": {},
   "source": [
    "In this notebook we use some widgets from the [ipywidgets](https://ipywidgets.readthedocs.io/en/stable/) module:"
   ]
  },
  {
   "cell_type": "code",
   "execution_count": null,
   "metadata": {},
   "outputs": [],
   "source": [
    "from pylab import *\n",
    "from ipywidgets import interact, IntSlider"
   ]
  },
  {
   "cell_type": "markdown",
   "metadata": {},
   "source": [
    "Define a function to make plots to use with each method tested:"
   ]
  },
  {
   "cell_type": "code",
   "execution_count": null,
   "metadata": {},
   "outputs": [],
   "source": [
    "def make_plots(t,U,method_name):\n",
    "    Utrue = exp(t)\n",
    "    E = U - Utrue  # error\n",
    "    Emax = abs(E).max()\n",
    "    dt = t[1] - t[0]\n",
    "        \n",
    "    figure(figsize=(11,5))\n",
    "    subplot(1,2,1)\n",
    "    plot(t, Utrue, 'k-', label='True solution')\n",
    "    plot(t, U, 'b-o', label='Computed')\n",
    "    legend(loc='upper left')\n",
    "    ylim(0,10)\n",
    "    title('%s with dt = %.6f' % (method_name,dt))\n",
    "    subplot(1,2,2)\n",
    "    plot(t, E, 'r-o')\n",
    "    title('Maximum |Error| = %.6f' % Emax)"
   ]
  },
  {
   "cell_type": "markdown",
   "metadata": {},
   "source": [
    "## Forward Euler\n",
    "\n",
    "First we test the Forward Euler method."
   ]
  },
  {
   "cell_type": "code",
   "execution_count": null,
   "metadata": {},
   "outputs": [],
   "source": [
    "def ForwardEuler(nsteps):\n",
    "    t0 = 0.;  tfinal = 2.\n",
    "    t = linspace(t0, tfinal, nsteps+1)\n",
    "    dt = t[1] - t[0]\n",
    "    \n",
    "    # Array for computed solution\n",
    "    # give it two rows so each column is solution at one time,\n",
    "    # since function f(u) = A*u is matrix-vector multiplication\n",
    "    \n",
    "    U = empty(nsteps+1) \n",
    "    U.fill(nan)\n",
    "    U[0] = 1.  # initial value\n",
    "    for n in range(0,nsteps):\n",
    "        U[n+1] = U[n] + dt * U[n]\n",
    "        \n",
    "    make_plots(t,U,'Forward Euler')"
   ]
  },
  {
   "cell_type": "markdown",
   "metadata": {},
   "source": [
    "If you call this with different values of `nsteps` you should see that the solution converges as `nsteps` increases."
   ]
  },
  {
   "cell_type": "code",
   "execution_count": null,
   "metadata": {},
   "outputs": [],
   "source": [
    "ForwardEuler(20)"
   ]
  },
  {
   "cell_type": "markdown",
   "metadata": {},
   "source": [
    "This can be simplified with a widget that allows easily changing `nsteps` over a suitable range:"
   ]
  },
  {
   "cell_type": "code",
   "execution_count": null,
   "metadata": {},
   "outputs": [],
   "source": [
    "interact(ForwardEuler, nsteps=IntSlider(min=5,max=25,step=5,value=5));"
   ]
  },
  {
   "cell_type": "markdown",
   "metadata": {},
   "source": [
    "Note that the absolute value of the error grows exponentially in time. Nonetheless, over any fixed time interval such as the $0 \\leq t \\leq 2$ used here, the error decays to zero over the entire interval as `nsteps` grows (i.e. as $\\Delta t \\rightarrow 0$)."
   ]
  },
  {
   "cell_type": "markdown",
   "metadata": {},
   "source": [
    "## Midpoint method\n",
    "\n",
    "Recall that the 2-point midpoint method $U^{n+2} = U^n + 2 k f(U^{n+1})$ is second order accurate.  Here's an implementation on the test problem $u' = u$:"
   ]
  },
  {
   "cell_type": "code",
   "execution_count": null,
   "metadata": {},
   "outputs": [],
   "source": [
    "def Midpoint(nsteps):\n",
    "    t0 = 0.;  tfinal = 2.\n",
    "    t = linspace(t0, tfinal, nsteps+1)\n",
    "    dt = t[1] - t[0]\n",
    "    \n",
    "    U = empty(nsteps+1) \n",
    "    U.fill(nan)\n",
    "    U[0] = 1.       # initial value\n",
    "    U[1] = exp(dt)  # exact solution at t_1\n",
    "    \n",
    "    for n in range(0,nsteps-1):\n",
    "        U[n+2] = U[n] + 2*dt * U[n+1]\n",
    "        \n",
    "    make_plots(t,U,'Midpoint')"
   ]
  },
  {
   "cell_type": "markdown",
   "metadata": {},
   "source": [
    "Since Midpoint is also zero-stable, we see convergence as we increase `nsteps`.  The error still grows exponentially with time but with a multiplicative constant that goes to zero like $\\Delta t^2$:"
   ]
  },
  {
   "cell_type": "code",
   "execution_count": null,
   "metadata": {},
   "outputs": [],
   "source": [
    "interact(Midpoint, nsteps=IntSlider(min=5,max=25,step=5,value=5));"
   ]
  },
  {
   "cell_type": "markdown",
   "metadata": {},
   "source": [
    "## An exponentially bad method\n",
    "\n",
    "Now consider the method given in Example 6.2 on page 143 of the text,\n",
    "$$\n",
    "U^{n+2} - 3U^{n+1} + 2U^n = -k f(U^n).\n",
    "$$\n",
    "This 2-step linear multistep method is formally first order accurate, with trunction error $\\tau^n = \\frac 1 2 k u''(t_n) + O(k^2)$, and hence is *consistent.*  \n",
    "\n",
    "Here's an implementation:"
   ]
  },
  {
   "cell_type": "code",
   "execution_count": null,
   "metadata": {},
   "outputs": [],
   "source": [
    "def ExpBadMethod(nsteps):\n",
    "    t0 = 0.;  tfinal = 2.\n",
    "    t = linspace(t0, tfinal, nsteps+1)\n",
    "    dt = t[1] - t[0]\n",
    "    \n",
    "    # Array for computed solution\n",
    "    # give it two rows so each column is solution at one time,\n",
    "    # since function f(u) = A*u is matrix-vector multiplication\n",
    "    \n",
    "    U = empty(nsteps+1) \n",
    "    U.fill(nan)\n",
    "    U[0] = 1.       # initial value\n",
    "    U[1] = exp(dt)  # exact solution at t_1\n",
    "    \n",
    "    for n in range(0,nsteps-1):\n",
    "        U[n+2] = 3*U[n+1] - 2*U[n] - dt * U[n]\n",
    "        \n",
    "    make_plots(t,U,'Exponentially Bad Method')"
   ]
  },
  {
   "cell_type": "markdown",
   "metadata": {},
   "source": [
    "Although the method is consistent However, it **fails to be zero-stable**.  As a result, increasing `nsteps` does not lead to better results."
   ]
  },
  {
   "cell_type": "code",
   "execution_count": null,
   "metadata": {},
   "outputs": [],
   "source": [
    "interact(ExpBadMethod, nsteps=IntSlider(min=5,max=25,step=5,value=5));"
   ]
  },
  {
   "cell_type": "markdown",
   "metadata": {},
   "source": [
    "Note that the error actually looks better for the first few time steps as $k$ is decreased.  But now the error grows exponentially **in the number of steps taken**.  This is very different from growing expoentially in time, since it means we do not converge as we decrease the time step over a fixed time interval, in which case `nsteps` grows."
   ]
  },
  {
   "cell_type": "markdown",
   "metadata": {},
   "source": [
    "## A linearly bad method\n",
    "\n",
    "Now consider the method of Example 6.4 in the book,\n",
    "$$\n",
    "U^{n+2} - 2U^{n+1} + U^n = -\\frac 1 2 k (f(U^{n+2}) - f(U^n)).\n",
    "$$\n",
    "This is an implicit method, but for $f(u) = u$ we can easily solve of \n",
    "$$\n",
    "U^{n+2} = \\left(2U^{n+1} - U^n -\\frac 1 2 k U^n\\right) / (1 - k/2).\n",
    "$$\n",
    "\n",
    "Here it is implemented using $U^1 = \\exp(k)$ as before..."
   ]
  },
  {
   "cell_type": "code",
   "execution_count": null,
   "metadata": {},
   "outputs": [],
   "source": [
    "def LinearlyBadMethod(nsteps):\n",
    "    t0 = 0.;  tfinal = 2.\n",
    "    t = linspace(t0, tfinal, nsteps+1)\n",
    "    dt = t[1] - t[0]\n",
    "    \n",
    "    # Array for computed solution\n",
    "    # give it two rows so each column is solution at one time,\n",
    "    # since function f(u) = A*u is matrix-vector multiplication\n",
    "    \n",
    "    U = empty(nsteps+1) \n",
    "    U.fill(nan)\n",
    "    U[0] = 1.       # initial value\n",
    "    U[1] = exp(dt)  # exact solution at t_1\n",
    "    \n",
    "    for n in range(0,nsteps-1):\n",
    "        U[n+2] = (2*U[n+1] - U[n] - 0.5*dt * U[n]) / (1 - 0.5*dt)\n",
    "        \n",
    "    make_plots(t,U,'Linearly Bad Method')"
   ]
  },
  {
   "cell_type": "code",
   "execution_count": null,
   "metadata": {},
   "outputs": [],
   "source": [
    "interact(LinearlyBadMethod, nsteps=IntSlider(min=5,max=25,step=5,value=5));"
   ]
  },
  {
   "cell_type": "markdown",
   "metadata": {},
   "source": [
    "This seems to be converging fine.  But recall that to be *convergent* the method has to converge for any choice of starting data satisfying $U^1 \\rightarrow \\eta = 1$ as $k \\rightarrow 0$.  Here's what happens if we choose $U^1 = 1 + k/2$:"
   ]
  },
  {
   "cell_type": "code",
   "execution_count": null,
   "metadata": {},
   "outputs": [],
   "source": [
    "def LinearlyBadMethod(nsteps):\n",
    "    t0 = 0.;  tfinal = 2.\n",
    "    t = linspace(t0, tfinal, nsteps+1)\n",
    "    dt = t[1] - t[0]\n",
    "    \n",
    "    # Array for computed solution\n",
    "    # give it two rows so each column is solution at one time,\n",
    "    # since function f(u) = A*u is matrix-vector multiplication\n",
    "    \n",
    "    U = empty(nsteps+1) \n",
    "    U.fill(nan)\n",
    "    U[0] = 1.       # initial value\n",
    "    U[1] = 1. + 0.5*dt #exp(dt)  # exact solution at t_1\n",
    "    \n",
    "    for n in range(0,nsteps-1):\n",
    "        U[n+2] = (2*U[n+1] - U[n] - 0.5*dt * U[n]) / (1 - 0.5*dt)\n",
    "        \n",
    "    make_plots(t,U,'Linearly Bad Method')"
   ]
  },
  {
   "cell_type": "code",
   "execution_count": null,
   "metadata": {},
   "outputs": [],
   "source": [
    "interact(LinearlyBadMethod, nsteps=IntSlider(min=5,max=25,step=5,value=5));"
   ]
  },
  {
   "cell_type": "markdown",
   "metadata": {},
   "source": [
    "In this case the method seems to converge **to the wrong function** as we reduce $k$.  Note that the error now grows linearly with $t$, not exponentially, but still in a way that does not diminish with $k$ and so the method is **not convergent.** This method also fails to be zero-stable.  See the text for more discussion.\n",
    "\n",
    "Can you figure out what function this converges to?"
   ]
  },
  {
   "cell_type": "code",
   "execution_count": null,
   "metadata": {},
   "outputs": [],
   "source": []
  }
 ],
 "metadata": {
  "kernelspec": {
   "display_name": "Python 3",
   "language": "python",
   "name": "python3"
  },
  "language_info": {
   "codemirror_mode": {
    "name": "ipython",
    "version": 3
   },
   "file_extension": ".py",
   "mimetype": "text/x-python",
   "name": "python",
   "nbconvert_exporter": "python",
   "pygments_lexer": "ipython3",
   "version": "3.6.5"
  }
 },
 "nbformat": 4,
 "nbformat_minor": 2
}
