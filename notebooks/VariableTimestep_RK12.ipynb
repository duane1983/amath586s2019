{
 "cells": [
  {
   "cell_type": "markdown",
   "metadata": {},
   "source": [
    "# Variable time step ODE solver\n",
    "\n",
    "[AMath 586, Spring Quarter 2019](http://staff.washington.edu/rjl/classes/am586s2019/) at the University of Washington. For other notebooks, see [Index.ipynb](Index.ipynb) or the [Index of all notebooks on Github](https://github.com/rjleveque/amath586s2019/blob/master/notebooks/Index.ipynb).\n",
    "\n",
    "This notebook gives a simplified implementation of a variable time step ODE solver based on an order 1,2 embedded Runge-Kutta method given by (5.42) in [the textbook](http://staff.washington.edu/rjl/fdmbook/)."
   ]
  },
  {
   "cell_type": "code",
   "execution_count": null,
   "metadata": {},
   "outputs": [],
   "source": [
    "%matplotlib inline"
   ]
  },
  {
   "cell_type": "code",
   "execution_count": null,
   "metadata": {},
   "outputs": [],
   "source": [
    "from pylab import *"
   ]
  },
  {
   "cell_type": "markdown",
   "metadata": {},
   "source": [
    "Solve the ODE\n",
    "\n",
    "$$\n",
    "u'(t) = \\lambda(u - g(t)) + g'(t), \\qquad u(0) = \\eta\n",
    "$$\n",
    "\n",
    "where $g(t)$ is a given function.   The exact solution is\n",
    "\n",
    "$$u(t) = \\exp(\\lambda t)(\\eta - g(0)) + g(t).$$\n",
    "\n",
    "In [ScalarStiffness.ipynb](ScalarStiffness.ipynb) we used $g(t) = \\cos(t)$, but here we modify this function $g(t)$ to also include a sharply peaked Gaussian $\\exp(-\\gamma (t-1)^2)$ where small time steps are needed to resolve the solution.  We can also choose $\\lambda$ very negative to make the problem stiff, or take $\\lambda$ near 0 to make it easier to solve with an explicit method."
   ]
  },
  {
   "cell_type": "code",
   "execution_count": null,
   "metadata": {},
   "outputs": [],
   "source": [
    "gamma = 500.\n",
    "\n",
    "def g(t):\n",
    "    return cos(t) + exp(-gamma*(t-1.)**2)\n",
    "\n",
    "def gprime(t):\n",
    "    return -sin(t) - 2*gamma*(t-1.)*exp(-gamma*(t-1.)**2)"
   ]
  },
  {
   "cell_type": "markdown",
   "metadata": {},
   "source": [
    "Plot of $g(t)$:"
   ]
  },
  {
   "cell_type": "code",
   "execution_count": null,
   "metadata": {},
   "outputs": [],
   "source": [
    "tfine = linspace(0,pi,2000)\n",
    "plot(tfine, g(tfine))\n",
    "title('Function $g(t)$');"
   ]
  },
  {
   "cell_type": "markdown",
   "metadata": {},
   "source": [
    "## Implement a variable time step method\n",
    "\n",
    "This is a simple implementation of the embedded Runge-Kutta method given by (5.42) in the textbook, along with choosing the time step $k_{n+1}$ based on the estimate of the local error in Forward Euler obtained from the previous step, \n",
    "\n",
    "$$\n",
    "|{\\cal L}^n| \\approx \\frac 1 2 k_n^2 |u''(t_n)| \\approx |\\hat U^{n+1} - U^{n+1}|.\n",
    "$$\n",
    "\n",
    "For a given tolerance $\\epsilon$ (called `tol` in the code) and final time $T$ (called `tfinal`), we choose \n",
    "\n",
    "$$k_{n+1} = \\frac{k_n^2 \\epsilon}{T |{\\cal L}^n|}.$$\n",
    "\n",
    "Then we hope $|{\\cal L}^{n+1}| \\leq k_{n+1} \\epsilon/T$ and that the local errors accumulate linearly so that the final error at time $T$ satisfies\n",
    "\n",
    "$$\n",
    "|E(T)| \\leq \\sum_{n=0}^{N-1} k_n \\epsilon/T = \\epsilon, \\qquad\n",
    "\\text{since}\\quad \\sum_{n=0}^{N-1} k_n = T.\n",
    "$$\n",
    "\n",
    "In case $u''(t_n)$ is near zero this might give too large a time step at some times, so also put in a restriction that $k_{n+1} \\leq 2k_n$."
   ]
  },
  {
   "cell_type": "code",
   "execution_count": null,
   "metadata": {},
   "outputs": [],
   "source": [
    "def test_variable_dt_method(tol=1e-3, lam=0):\n",
    "    u0 = 0.\n",
    "    \n",
    "    def f(u,t):\n",
    "        return lam*(u - g(t)) + gprime(t)\n",
    "\n",
    "    def utrue(t):\n",
    "        return exp(lam*(t)) * (u0 - g(0)) + g(t)\n",
    "\n",
    "    tfinal = 3\n",
    "    tfine = linspace(0,tfinal,2000)\n",
    "    ufine = utrue(tfine)  # reference exact solution\n",
    "    \n",
    "    kn = 1e-5 # initial time step\n",
    "    maxsteps = 1000000 # to avoid infinite loop\n",
    "    tn = 0.\n",
    "    Un = u0\n",
    "    \n",
    "    # start accumulating lists (append in each time step)\n",
    "    times = [tn]\n",
    "    u = [Un]\n",
    "    timesteps = [kn]\n",
    "\n",
    "    for n in range(maxsteps):\n",
    "        tnp = tn + kn\n",
    "        F1 = f(Un,tn)\n",
    "        Y2 = Un + 0.5*kn*F1\n",
    "        Unp = Un + kn*f(Y2, tn + 0.5*kn)\n",
    "        Unp_hat = Un + kn*F1\n",
    "        \n",
    "        # Estimate of 1-step error in Euler:\n",
    "        Ln = abs(Unp_hat - Unp)\n",
    "        # New time step based on wanting 1-step error <= tol/tfinal:\n",
    "        knp = kn**2 * tol/(tfinal*Ln)\n",
    "        # But don't let it grow too fast:\n",
    "        knp = min(knp, 2*kn)\n",
    "        \n",
    "        #Unp = Unp_hat # to use Euler step rather than 2nd order\n",
    "        \n",
    "        u.append(Unp)\n",
    "        times.append(tnp)\n",
    "        timesteps.append(knp)\n",
    "        Un = Unp\n",
    "        tn = tnp\n",
    "        kn = knp\n",
    "        \n",
    "        # check if done:\n",
    "        if tn > tfinal:\n",
    "            break\n",
    "\n",
    "    if (tn < tfinal):\n",
    "        print('*** Warning, failed to reach tfinal')\n",
    "        \n",
    "    # convert lists into numpy arrays:\n",
    "    times = array(times)\n",
    "    u = array(u)\n",
    "    timesteps = array(timesteps)\n",
    "    \n",
    "    print('Stopping at t=%.3f, after %i timesteps' % (tn, len(u)))\n",
    "    print('Maximum k = %g,  lambda*(max k) = %g' \\\n",
    "          % (timesteps.max(), lam*timesteps.max()))\n",
    "    \n",
    "    figure(figsize=(11,4))\n",
    "    subplot(121)\n",
    "    plot(tfine,ufine,'k')\n",
    "    plot(times,u)\n",
    "    title('Solution')\n",
    "    subplot(122)\n",
    "    errs = abs(u - utrue(times))\n",
    "    semilogy([0,tfinal], [tol,tol], 'g--', label='tolerance')\n",
    "    semilogy(times,errs,'r',label='abs(error)')\n",
    "    semilogy(times,timesteps,'k',label='timestep')\n",
    "    grid(True)\n",
    "    ylim(1e-12, 1)\n",
    "    legend(loc='lower right')\n",
    "    title('tol = %g, max error = %g' % (tol,errs.max()));"
   ]
  },
  {
   "cell_type": "markdown",
   "metadata": {},
   "source": [
    "Test on a mild problem with $\\lambda = -1$... Try changing `tol` and note that the solution is generally more accurate than requested."
   ]
  },
  {
   "cell_type": "code",
   "execution_count": null,
   "metadata": {
    "scrolled": false
   },
   "outputs": [],
   "source": [
    "test_variable_dt_method(tol=1e-2, lam=-1)"
   ]
  },
  {
   "cell_type": "markdown",
   "metadata": {},
   "source": [
    "Try a stiffer equation.  Note that the time step is automatically adjusted to stay close to the stability region (which intersects the real axis at $k\\lambda = -2$):"
   ]
  },
  {
   "cell_type": "code",
   "execution_count": null,
   "metadata": {},
   "outputs": [],
   "source": [
    "test_variable_dt_method(tol=1e-1, lam=-100)"
   ]
  },
  {
   "cell_type": "code",
   "execution_count": null,
   "metadata": {},
   "outputs": [],
   "source": []
  }
 ],
 "metadata": {
  "kernelspec": {
   "display_name": "Python 3",
   "language": "python",
   "name": "python3"
  },
  "language_info": {
   "codemirror_mode": {
    "name": "ipython",
    "version": 3
   },
   "file_extension": ".py",
   "mimetype": "text/x-python",
   "name": "python",
   "nbconvert_exporter": "python",
   "pygments_lexer": "ipython3",
   "version": "3.6.5"
  }
 },
 "nbformat": 4,
 "nbformat_minor": 2
}
