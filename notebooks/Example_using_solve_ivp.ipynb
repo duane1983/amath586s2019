{
 "cells": [
  {
   "cell_type": "markdown",
   "metadata": {},
   "source": [
    "# An example using `solve_ivp` to solve an Initial Value Problem\n",
    "\n",
    "\n",
    "[AMath 586, Spring Quarter 2019](http://staff.washington.edu/rjl/classes/am586s2019/) at the University of Washington. For other notebooks, see [Index.ipynb](Index.ipynb) or the [Index of all notebooks on Github](https://github.com/rjleveque/amath586s2019/blob/master/notebooks/Index.ipynb).\n",
    "\n",
    "This notebook illustrates use of the [Scipy](https://scipy.org/) routine `solve_ivp` for solving the initial value problem."
   ]
  },
  {
   "cell_type": "code",
   "execution_count": null,
   "metadata": {},
   "outputs": [],
   "source": [
    "%matplotlib inline"
   ]
  },
  {
   "cell_type": "markdown",
   "metadata": {},
   "source": [
    "Importing everything from `pylab` puts all the [Numpy](https://numpy.org/) and [matplotlib](https://matplotlib.org/) commands in the namespace, so we can use them directly:"
   ]
  },
  {
   "cell_type": "code",
   "execution_count": null,
   "metadata": {},
   "outputs": [],
   "source": [
    "from pylab import *"
   ]
  },
  {
   "cell_type": "markdown",
   "metadata": {},
   "source": [
    "Import `solve_ivp` from [scipy.integrate](https://docs.scipy.org/doc/scipy/reference/integrate.html).  "
   ]
  },
  {
   "cell_type": "code",
   "execution_count": null,
   "metadata": {},
   "outputs": [],
   "source": [
    "from scipy.integrate import solve_ivp"
   ]
  },
  {
   "cell_type": "markdown",
   "metadata": {},
   "source": [
    "If this import statement fails on your computer it might be that you don't have a new enough version of Scipy, since `solve_ivp` is a relatively recent addition.  To see what version you have, try:"
   ]
  },
  {
   "cell_type": "code",
   "execution_count": null,
   "metadata": {},
   "outputs": [],
   "source": [
    "import scipy\n",
    "scipy.__version__"
   ]
  },
  {
   "cell_type": "markdown",
   "metadata": {
    "collapsed": false
   },
   "source": [
    "## Test problem\n",
    "\n",
    "consider the linear ODE $u'(t) = Au(t)$ where \n",
    "$$A = \\left[\\begin{array}{rr}-2&0\\\\3&-1\\end{array}\\right].$$\n",
    "with initial data $u(0) = [1, ~-1]^T$.\n",
    "\n",
    "The exact solution is $u_1(t) = e^{-2t}, ~ u_2(t) = 2e^{-t} - 3e^{-2t}$."
   ]
  },
  {
   "cell_type": "code",
   "execution_count": null,
   "metadata": {},
   "outputs": [],
   "source": [
    "utrue = lambda t: array([exp(-2*t),  2*exp(-t)-3*exp(-2*t)])\n",
    "\n",
    "t0 = 0.\n",
    "tf = 1.\n",
    "\n",
    "# evaluate on fine grid to compare with computed solution:\n",
    "tfine = linspace(t0, tf, 1000)\n",
    "ufine = utrue(tfine)\n",
    "print('ufine has shape ', ufine.shape)"
   ]
  },
  {
   "cell_type": "markdown",
   "metadata": {},
   "source": [
    "### Learn about `solve_ivp`\n",
    "\n",
    "You can read the documentation for [solve_ivp](https://docs.scipy.org/doc/scipy/reference/generated/scipy.integrate.solve_ivp.html), or in a notebook (or interactive IPython shell) you can always learn about a function by typing its name followed by `?` and then executing the cell.  This prints out the \"docstring\".  "
   ]
  },
  {
   "cell_type": "code",
   "execution_count": null,
   "metadata": {},
   "outputs": [],
   "source": [
    "#solve_ivp?  # uncomment this line if you want to see the docstring"
   ]
  },
  {
   "cell_type": "code",
   "execution_count": null,
   "metadata": {},
   "outputs": [],
   "source": [
    "def f(t,u):\n",
    "    f0 = -2*u[0]\n",
    "    f1 = 3*u[0] - u[1]\n",
    "    return array([f0,f1])\n",
    "\n",
    "u0 = array([1., -1.])\n",
    "\n",
    "t_span = (t0, tf)\n",
    "t_eval = linspace(0, 1., 21)"
   ]
  },
  {
   "cell_type": "code",
   "execution_count": null,
   "metadata": {},
   "outputs": [],
   "source": [
    "solution = solve_ivp(f, t_span, u0, method='RK45', t_eval=t_eval)"
   ]
  },
  {
   "cell_type": "code",
   "execution_count": null,
   "metadata": {},
   "outputs": [],
   "source": [
    "print(solution.t)"
   ]
  },
  {
   "cell_type": "markdown",
   "metadata": {},
   "source": [
    "Note that `solve_ode` returns the solution in `solution.y`, but we are calling it `u`..."
   ]
  },
  {
   "cell_type": "code",
   "execution_count": null,
   "metadata": {},
   "outputs": [],
   "source": [
    "u = solution.y\n",
    "u.shape"
   ]
  },
  {
   "cell_type": "code",
   "execution_count": null,
   "metadata": {},
   "outputs": [],
   "source": [
    "figure(figsize=(6,4))\n",
    "plot(tfine, ufine[0,:], 'b-', label='true u_0')\n",
    "plot(solution.t, u[0,:], 'bo', label='computed u_0')\n",
    "plot(tfine, ufine[1,:], 'r-', label='true u_1')\n",
    "plot(solution.t, u[1,:], 'ro', label='computed u_0')\n",
    "legend(loc='lower right')\n",
    "# plot axes:\n",
    "plot([-0.1,1.1], [0,0], 'k')\n",
    "plot([0,0],[-1.1,1.1], 'k')\n",
    "xlabel('time')"
   ]
  },
  {
   "cell_type": "markdown",
   "metadata": {},
   "source": [
    "### Error at the final time:\n",
    "\n",
    "Note that in Python index `-1` refers to the last element in an array (and `-2` is penultimate, etc.).\n",
    "\n",
    "We also print out how many times `f` was evaluated to compute this solution, a measure of the work required:"
   ]
  },
  {
   "cell_type": "code",
   "execution_count": null,
   "metadata": {},
   "outputs": [],
   "source": [
    "print('Errors are: ')\n",
    "print(u[:,-1] - ufine[:,-1])\n",
    "print('Using %i function evaluations' % solution.nfev)"
   ]
  },
  {
   "cell_type": "markdown",
   "metadata": {},
   "source": [
    "### Compute a more accurate solution:\n",
    "\n",
    "Optional arguments `rtol` and `atol` can be passed to force more accuracy:"
   ]
  },
  {
   "cell_type": "code",
   "execution_count": null,
   "metadata": {},
   "outputs": [],
   "source": [
    "solution = solve_ivp(f, t_span, u0, method='RK45', t_eval=t_eval, rtol=1e-9, atol=1e-9)"
   ]
  },
  {
   "cell_type": "code",
   "execution_count": null,
   "metadata": {},
   "outputs": [],
   "source": [
    "u = solution.y\n",
    "print('Errors are: ')\n",
    "print(u[:,-1] - ufine[:,-1])\n",
    "print('Using %i function evaluations' % solution.nfev)"
   ]
  }
 ],
 "metadata": {
  "kernelspec": {
   "display_name": "Python 3",
   "language": "python",
   "name": "python3"
  },
  "language_info": {
   "codemirror_mode": {
    "name": "ipython",
    "version": 3
   },
   "file_extension": ".py",
   "mimetype": "text/x-python",
   "name": "python",
   "nbconvert_exporter": "python",
   "pygments_lexer": "ipython3",
   "version": "3.6.5"
  }
 },
 "nbformat": 4,
 "nbformat_minor": 2
}
