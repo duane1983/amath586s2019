{
 "cells": [
  {
   "cell_type": "markdown",
   "metadata": {},
   "source": [
    "# Testing convergence and order of accuracy\n",
    "\n",
    "[AMath 586, Spring Quarter 2019](http://staff.washington.edu/rjl/classes/am586s2019/) at the University of Washington. For other notebooks, see [Index.ipynb](Index.ipynb) or the [Index of all notebooks on Github](https://github.com/rjleveque/amath586s2019/blob/master/notebooks/Index.ipynb).\n",
    "\n",
    "This notebook illustrates testing an ODE method to determine the order of accuracy. See Appendix A of [the textbook](http://staff.washington.edu/rjl/fdmbook/) and particularly A.6 for more discussion of this.\n",
    "\n",
    "As an example, we investigate the effect of errors in starting values on the accuracy of a linear multistep method."
   ]
  },
  {
   "cell_type": "code",
   "execution_count": 1,
   "metadata": {},
   "outputs": [],
   "source": [
    "%matplotlib inline"
   ]
  },
  {
   "cell_type": "code",
   "execution_count": 2,
   "metadata": {},
   "outputs": [],
   "source": [
    "from pylab import *"
   ]
  },
  {
   "cell_type": "markdown",
   "metadata": {},
   "source": [
    "### 2-stage Adams-Bashforth\n",
    "\n",
    "Suppose we apply the 2-stage Adams-Bashforth method to the ODE $u'(t) = Au(t)$ where \n",
    "$$A = \\left[\\begin{array}{rr}-2&0\\\\3&-1\\end{array}\\right].$$\n",
    "with initial data $u(0) = [1, ~-1]^T$.\n",
    "\n",
    "The exact solution is $u_1(t) = e^{-2t}, ~ u_2(t) = 2e^{-t} - 3e^{-2t}$."
   ]
  },
  {
   "cell_type": "code",
   "execution_count": 3,
   "metadata": {},
   "outputs": [],
   "source": [
    "t0 = 0.\n",
    "eta = array([1., -1.])\n",
    "A = array([[-2.,0.], [3.,-1.]])  # defines 2x2 matrix\n",
    "\n",
    "# function f(u,t) (as a \"lambda function\")\n",
    "f = lambda u,t: dot(A,u)  # matrix vector product\n",
    "\n",
    "utrue = lambda t: array([exp(-2*t),  2*exp(-t)-3*exp(-2*t)])"
   ]
  },
  {
   "cell_type": "markdown",
   "metadata": {},
   "source": [
    "### Implement Adams-Bashforth 2-step method\n",
    "\n",
    "We implement this as a function that can be called to test the method both with different numbers of time steps `nsteps` between `t0` and `tfinal` (and hence vary $\\Delta t$) and also with two different choices of *starting method.*   \n",
    "\n",
    "For this two step method we need to specify not only $U^0 = \\eta$, the initial condition for the ODE problem, but also the value $U^1$.  The 2-step Adams-Bashforth is \"second order accurate\" but we expect to see this accuracy in the global error only if we set $U^1$ appropriately, as described in the textbook in Section 5.9.3 and some of the examples of Chapter 6.  The parameter `ul_method` in this function allows testing either $U^1 = U^0$ if `ul_method = 0`, or $U^1 = U^0 + k\\Delta t f(U^0)$ (the better choice that preserves second order accuracy)."
   ]
  },
  {
   "cell_type": "code",
   "execution_count": 4,
   "metadata": {},
   "outputs": [],
   "source": [
    "def AB2(tfinal,nsteps, make_plot=True, u1_method=1):\n",
    "    \"\"\"\n",
    "    2-step Adams-Bashforth method.\n",
    "    u1_method defines how U^1 is computed from U^0 = eta.\n",
    "    The default is ul_method=1, using Forward Euler.\n",
    "    \"\"\"\n",
    "    \n",
    "    t = linspace(t0, tfinal, nsteps+1)\n",
    "    dt = t[1] - t[0]\n",
    "    \n",
    "    # Array for computed solution\n",
    "    # give it two rows so each column is solution at one time,\n",
    "    # since function f(u) = A*u is matrix-vector multiplication\n",
    "    \n",
    "    U = empty((2,nsteps+1))  \n",
    "    U.fill(nan)\n",
    "    \n",
    "    U[:,0] = eta\n",
    "    \n",
    "    if u1_method == 0:\n",
    "        U[:,1] = eta\n",
    "    elif u1_method == 1:\n",
    "        U[:,1] = eta + dt * f(U[:,0], t[0])  # Forward Euler \n",
    "    else:\n",
    "        print(\"*** Unrecognized u1_method\")\n",
    "        return None\n",
    "    \n",
    "    # Main time-stepping loop:\n",
    "    for n in range(0,nsteps-1):\n",
    "        U[:,n+2] = U[:,n+1] + 0.5*dt * (-f(U[:,n], t[n]) + 3*f(U[:,n+1],t[n+1]))\n",
    "\n",
    "    if make_plot:\n",
    "        tfine = linspace(t0, tfinal, 1000)  # fine grid for plotting true solution\n",
    "        ufine = utrue(tfine)\n",
    "        figure(figsize=(8,4))\n",
    "        plot(t,U[0,:],'bo', label='u0 - AB2', markersize=5)\n",
    "        plot(tfine, ufine[0,:], 'b', label='u0 - true')\n",
    "        plot(t,U[1,:],'ro', label='u1 - AB2', markersize=5)\n",
    "        plot(tfine, ufine[1,:], 'r', label='u1 - true')\n",
    "        legend()\n",
    "        title('%i steps, dt = %7.4f' % (nsteps, dt))\n",
    "    \n",
    "    error = U - utrue(t)\n",
    "    return error"
   ]
  },
  {
   "cell_type": "code",
   "execution_count": 5,
   "metadata": {},
   "outputs": [
    {
     "data": {
      "image/png": "[encoded data removed]",
      "text/plain": [
       "<Figure size 576x288 with 1 Axes>"
      ]
     },
     "metadata": {},
     "output_type": "display_data"
    }
   ],
   "source": [
    "error = AB2(5., 40)"
   ]
  },
  {
   "cell_type": "markdown",
   "metadata": {},
   "source": [
    "### Pick a time to examine the error\n",
    "\n",
    "It's best to pick a time before the solution has decayed close to zero or the estimates of order might not be very good (since the error also decays exponentially to zero eventually)."
   ]
  },
  {
   "cell_type": "code",
   "execution_count": 6,
   "metadata": {},
   "outputs": [
    {
     "data": {
      "text/plain": [
       "array([ 0.13533528,  0.32975303])"
      ]
     },
     "execution_count": 6,
     "metadata": {},
     "output_type": "execute_result"
    }
   ],
   "source": [
    "utrue(1.)  # check the solution at t = 1"
   ]
  },
  {
   "cell_type": "markdown",
   "metadata": {},
   "source": [
    "Solve the problem and print out the error at this time:"
   ]
  },
  {
   "cell_type": "code",
   "execution_count": 7,
   "metadata": {},
   "outputs": [
    {
     "name": "stdout",
     "output_type": "stream",
     "text": [
      "The shape of error is  (2, 11)\n",
      "Error at time 1 is [ 0.00175985 -0.00607314]\n",
      "One-norm of error is 0.00783298\n",
      "Max-norm of error is 0.00607314\n"
     ]
    }
   ],
   "source": [
    "tfinal = 1.\n",
    "error = AB2(tfinal, 10, make_plot=False)\n",
    "print(\"The shape of error is \",error.shape)\n",
    "print(\"Error at time %g is %s\" % (tfinal, error[:,-1]))\n",
    "print(\"One-norm of error is %g\" % norm(error[:,-1], 1))\n",
    "print(\"Max-norm of error is %g\" % norm(error[:,-1], inf))"
   ]
  },
  {
   "cell_type": "markdown",
   "metadata": {},
   "source": [
    "See how the error behaves as we incread the number of steps (decrease $\\Delta t$):"
   ]
  },
  {
   "cell_type": "code",
   "execution_count": 8,
   "metadata": {},
   "outputs": [
    {
     "name": "stdout",
     "output_type": "stream",
     "text": [
      "nsteps = 10, 1-norm of error = 0.0078329834\n",
      "nsteps = 20, 1-norm of error = 0.0019689688\n",
      "nsteps = 40, 1-norm of error = 0.0004915716\n",
      "nsteps = 80, 1-norm of error = 0.0001226725\n"
     ]
    }
   ],
   "source": [
    "for nsteps in [10,20,40,80]:\n",
    "    error = AB2(tfinal, nsteps, make_plot=False)\n",
    "    print(\"nsteps = %i, 1-norm of error = %12.10f\" % (nsteps, norm(error[:,-1],1)))"
   ]
  },
  {
   "cell_type": "markdown",
   "metadata": {},
   "source": [
    "Add some code to estimate the observed order of accuracy, by comparing the error with each value of `nsteps` to the error with half as many points.  Here we know the true solution, so we use the expressions from Appendix A.6.1 of the textbook:"
   ]
  },
  {
   "cell_type": "code",
   "execution_count": 9,
   "metadata": {},
   "outputs": [
    {
     "name": "stdout",
     "output_type": "stream",
     "text": [
      "nsteps = 20, ratio of errors = 3.9782162013, estimate p =  1.99\n",
      "nsteps = 40, ratio of errors = 4.0054563843, estimate p =  2.00\n",
      "nsteps = 80, ratio of errors = 4.0071856670, estimate p =  2.00\n"
     ]
    }
   ],
   "source": [
    "previous_E = nan\n",
    "for nsteps in [10,20,40,80]:\n",
    "    error = AB2(tfinal, nsteps, make_plot=False)\n",
    "    E = norm(error[:,-1],1)\n",
    "    if nsteps>10:\n",
    "        ratio = previous_E / E\n",
    "        p = log(ratio)/log(2)\n",
    "        print(\"nsteps = %i, ratio of errors = %12.10f, estimate p = %5.2f\" % (nsteps, ratio, p))\n",
    "    previous_E = E"
   ]
  },
  {
   "cell_type": "markdown",
   "metadata": {},
   "source": [
    "## Test for a sequence of N values and produce log-log plot\n",
    "\n",
    "It is often easies to see how the error behaves by plotting the error vs. the number of time steps $N$ used, called `nsteps` in the code.  (Or vs. $\\Delta t = T/N$ which would give a positive slope rather than a negative slope in the error plots.)\n",
    "\n",
    "Since we expect the error to behave like $E(N) \\approx C \\Delta t^p = CT^p / N^p$ for some constant $C$ (depending on the particular ODE we solve) and value $p$ (the order of accuracy), it is easiest to observe the behavior if we produce a log-log plot, plotting $\\log(E(N))$ vs. $\\log(N)$.  We expect\n",
    "\n",
    "$$\n",
    "\\log(E(N)) \\approx \\log(CT^p) - p\\log(N)\n",
    "$$\n",
    "\n",
    "and hence linear in $\\log(N)$ with slope $-p$.\n",
    "\n",
    "Set the values of $N$:"
   ]
  },
  {
   "cell_type": "code",
   "execution_count": 10,
   "metadata": {},
   "outputs": [
    {
     "name": "stdout",
     "output_type": "stream",
     "text": [
      "Will test with nsteps =  [2, 4, 8, 16, 32, 64, 128, 256, 512, 1024, 2048]\n"
     ]
    }
   ],
   "source": [
    "nsteps_vals = [2**j for j in range(1,12)]  # \"list comprehension\" in Python\n",
    "print(\"Will test with nsteps = \", nsteps_vals)"
   ]
  },
  {
   "cell_type": "markdown",
   "metadata": {},
   "source": [
    "### Test with good starting values \n",
    "\n",
    "We need starting values $U^0$ and $U^1$ for this 2-step method, where $U^0 = \\eta$ is the initial data for the ODE but $U^1$ has to be computed.\n",
    "\n",
    "First we use Forward Euler to compute $U^1$, which has an $O(k^2)$ error relative to the true value $u(t_1)$, and maintains the expected order of accuracy of the method.\n",
    "\n",
    "We also plot a reference line with slope $-2$ since we hope this method is second order accuarate.  If so, we expect the plot of the error to be parallel to this (perhaps with some vertical shift depending on the value of $C$)."
   ]
  },
  {
   "cell_type": "code",
   "execution_count": 11,
   "metadata": {},
   "outputs": [
    {
     "data": {
      "text/plain": [
       "Text(0,0.5,'1-norm of error')"
      ]
     },
     "execution_count": 11,
     "metadata": {},
     "output_type": "execute_result"
    },
    {
     "data": {
      "image/png": "[encoded data removed]",
      "text/plain": [
       "<Figure size 432x288 with 1 Axes>"
      ]
     },
     "metadata": {},
     "output_type": "display_data"
    }
   ],
   "source": [
    "# Test with u1_method==1:  Euler for U^1:\n",
    "E = empty(len(nsteps_vals))\n",
    "for j,nsteps in enumerate(nsteps_vals):\n",
    "    error = AB2(tfinal, nsteps, make_plot=False)\n",
    "    E[j] = norm(error[:,-1],1)\n",
    "    \n",
    "loglog(nsteps_vals, E, '-o', label='1-norm of error')\n",
    "\n",
    "nvals = array(nsteps_vals)  # turn into numpy array so we can square\n",
    "slope2 = 1./(nvals**2)\n",
    "loglog(nsteps_vals, slope2, 'r', label='reference line with slope -2')\n",
    "legend()\n",
    "\n",
    "title('Loglog plot of errors vs. N')\n",
    "xlabel('N')\n",
    "ylabel('1-norm of error')"
   ]
  },
  {
   "cell_type": "markdown",
   "metadata": {},
   "source": [
    "### Test with poor starting value\n",
    "\n",
    "Next we simply set $U^1 = U^0 = \\eta$, which has an $O(k)$ error and reduces the entire solution to first order accuracy:"
   ]
  },
  {
   "cell_type": "code",
   "execution_count": 12,
   "metadata": {},
   "outputs": [
    {
     "data": {
      "text/plain": [
       "Text(0,0.5,'1-norm of error')"
      ]
     },
     "execution_count": 12,
     "metadata": {},
     "output_type": "execute_result"
    },
    {
     "data": {
      "image/png": "[encoded data removed]",
      "text/plain": [
       "<Figure size 432x288 with 1 Axes>"
      ]
     },
     "metadata": {},
     "output_type": "display_data"
    }
   ],
   "source": [
    "# Test with u1_method==0:  U^1 = U^0:\n",
    "E = empty(len(nsteps_vals))\n",
    "for j,nsteps in enumerate(nsteps_vals):\n",
    "    error = AB2(tfinal, nsteps, make_plot=False, u1_method=0)\n",
    "    E[j] = norm(error[:,-1],1)\n",
    "    \n",
    "loglog(nsteps_vals, E, '-o', label='1-norm of error')\n",
    "\n",
    "nvals = array(nsteps_vals)  # turn into numpy array so we can square\n",
    "slope2 = 1./(nvals**2)\n",
    "loglog(nsteps_vals, slope2, 'r', label='reference line with slope -2')\n",
    "slope1 = 1./nvals\n",
    "loglog(nsteps_vals, slope1, 'k', label='reference line with slope -1')\n",
    "legend()\n",
    "\n",
    "title('Loglog plot of errors vs. N')\n",
    "xlabel('N')\n",
    "ylabel('1-norm of error')"
   ]
  },
  {
   "cell_type": "markdown",
   "metadata": {},
   "source": [
    "**Note:** These tests are performed on a simple ODE with very smooth solution and so we see nearly linear behavior for all values of $N$ tested, beyond the smallest value $N=2$.\n",
    "\n",
    "For a more realistic problem you probably would not see the nice linear behavior until $N$ is sufficiently large that the solution is well resolved.\n",
    "\n",
    "Also for very large values of $N$, or for higher order methods with smaller $N$, the linear behavior will generally disappear once rounding errors begin to affect the solution.  The computations are done with 16-byte floating point numbers for which the \"machine epsilon\" is around $2\\times 10^{-16}$, so we certainly cannot expact errors smaller than this and when over the course of thousands of time steps the rounding errors may grow to be larger so that the convergence curve saturates earlier.  This is true even if the method is zero-stable and so we expect convergence in exact arithmetic, but not computationally."
   ]
  }
 ],
 "metadata": {
  "kernelspec": {
   "display_name": "Python 2",
   "language": "python",
   "name": "python2"
  },
  "language_info": {
   "codemirror_mode": {
    "name": "ipython",
    "version": 3
   },
   "file_extension": ".py",
   "mimetype": "text/x-python",
   "name": "python",
   "nbconvert_exporter": "python",
   "pygments_lexer": "ipython3",
   "version": "3.6.5"
  }
 },
 "nbformat": 4,
 "nbformat_minor": 1
}
