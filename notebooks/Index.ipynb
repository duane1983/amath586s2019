{
 "cells": [
  {
   "cell_type": "markdown",
   "metadata": {},
   "source": [
    "# AMath 586 Notebooks\n",
    "\n",
    "\n",
    "[AMath 586, Spring Quarter 2019](http://staff.washington.edu/rjl/classes/am586s2019/) at the University of Washington. Developed by R.J. LeVeque and distributed under the [BSD license](https://github.com/rjleveque/amath586s2019/blob/master/LICENSE).  You are free to modify and use as you please, with attribution.\n",
    "\n",
    "These notebooks are all [available on Github](https://github.com/rjleveque/amath586s2019/blob/master/notebooks/Index.ipynb).\n"
   ]
  },
  {
   "cell_type": "markdown",
   "metadata": {},
   "source": [
    "## Introductory notebooks\n",
    "\n",
    " - [Demo1.ipynb](Demo1.ipynb)\n",
    " - [Debugging_hints.ipynb](Debugging_hints.ipynb)\n",
    " \n",
    "## ODE methods\n",
    "\n",
    " - [Example_using_solve_ivp.ipynb](Example_using_solve_ivp.ipynb)\n",
    " - [Oregonator.ipynb](Oregonator.ipynb)\n",
    " - [Matrix_exponential.ipynb](Matrix_exponential.ipynb) \n",
    " - [Convergence_testing.ipynb](Convergence_testing.ipynb)\n"
   ]
  }
 ],
 "metadata": {
  "kernelspec": {
   "display_name": "Python 3",
   "language": "python",
   "name": "python3"
  },
  "language_info": {
   "codemirror_mode": {
    "name": "ipython",
    "version": 3
   },
   "file_extension": ".py",
   "mimetype": "text/x-python",
   "name": "python",
   "nbconvert_exporter": "python",
   "pygments_lexer": "ipython3",
   "version": "3.6.5"
  }
 },
 "nbformat": 4,
 "nbformat_minor": 2
}
