{
 "cells": [
  {
   "cell_type": "markdown",
   "metadata": {},
   "source": [
    "# Pendulum motion with Forward Euler\n",
    "\n",
    "[AMath 586, Spring Quarter 2019](http://staff.washington.edu/rjl/classes/am586s2019/) at the University of Washington. For other notebooks, see [Index.ipynb](Index.ipynb) or the [Index of all notebooks on Github](https://github.com/rjleveque/amath586s2019/blob/master/notebooks/Index.ipynb).\n",
    "\n",
    "This notebook illustrates how Forward Euler behaves when modeling a simple pendulum on a coarse grid.\n"
   ]
  },
  {
   "cell_type": "code",
   "execution_count": null,
   "metadata": {},
   "outputs": [],
   "source": [
    "%matplotlib inline"
   ]
  },
  {
   "cell_type": "code",
   "execution_count": null,
   "metadata": {},
   "outputs": [],
   "source": [
    "from pylab import *\n",
    "from matplotlib import animation\n",
    "from IPython.display import HTML\n",
    "from scipy.integrate import solve_ivp"
   ]
  },
  {
   "cell_type": "markdown",
   "metadata": {},
   "source": [
    "## Compute a fine grid solution for comparison:"
   ]
  },
  {
   "cell_type": "code",
   "execution_count": null,
   "metadata": {},
   "outputs": [],
   "source": [
    "def f(t,u):\n",
    "    f0 = u[1]\n",
    "    f1 = -sin(u[0])\n",
    "    return array([f0,f1])\n",
    "\n",
    "theta0 = pi/2.\n",
    "u0 = array([theta0, 0.])\n",
    "tf = 30.\n",
    "\n",
    "t_span = (0., tf)\n",
    "t_eval = linspace(0, tf, 1000)\n",
    "solution = solve_ivp(f, t_span, u0, method='RK45', t_eval=t_eval, \n",
    "                      atol=1e-9, rtol=1e-9)\n",
    "theta_eval = solution.y[0,:]"
   ]
  },
  {
   "cell_type": "markdown",
   "metadata": {},
   "source": [
    "## Forward Euler implementation:"
   ]
  },
  {
   "cell_type": "code",
   "execution_count": null,
   "metadata": {
    "scrolled": false
   },
   "outputs": [],
   "source": [
    "def ForwardEuler(nsteps):\n",
    "    t0 = 0.;  tfinal = 30.\n",
    "    t = linspace(t0, tfinal, nsteps+1)\n",
    "    dt = t[1] - t[0]\n",
    "    \n",
    "    # Array for computed solution\n",
    "    # give it two rows so each column is solution at one time,\n",
    "    \n",
    "    U = empty((2,nsteps+1))\n",
    "    U.fill(nan)\n",
    "    U[0,0] = theta0  # initial angle theta\n",
    "    U[1,0] = 0.  # initial angular velocity\n",
    "    for n in range(0,nsteps):\n",
    "        U[0,n+1] = U[0,n] + dt * U[1,n]\n",
    "        U[1,n+1] = U[1,n] - dt * sin(U[0,n])\n",
    "    \n",
    "    return t,U\n",
    "\n",
    "t,U = ForwardEuler(300)\n",
    "\n",
    "plot(t,U[0,:],'b',label='computed')\n",
    "plot(t_eval,theta_eval,'k',label='from solve_ivp')\n",
    "legend()\n",
    "print('Error at the final time = %g' % abs(U[0,-1]-theta_eval[-1]))"
   ]
  },
  {
   "cell_type": "markdown",
   "metadata": {},
   "source": [
    "Note that the Forward Euler solution for $\\theta(t)$ grows in amplitude with time in a nonphysical manner and eventually goes over the top ($\\theta > \\pi$) and continues swinging around and around rather than osciallating about $\\theta = 0$ as it should.\n",
    "\n",
    "This is much easier to visualize in an animation...\n"
   ]
  },
  {
   "cell_type": "markdown",
   "metadata": {},
   "source": [
    "## Animation\n",
    "\n",
    "The rest of this notebook shows how to make an animation of the solution. \n",
    "\n",
    "This uses the [animation.FuncAnimation](https://matplotlib.org/api/_as_gen/matplotlib.animation.FuncAnimation.html) function from matplotlib to animate the pendulum motion.  See e.g. [this page](http://louistiao.me/posts/notebooks/embedding-matplotlib-animations-in-jupyter-as-interactive-javascript-widgets/) for a nice simple introductory example."
   ]
  },
  {
   "cell_type": "code",
   "execution_count": null,
   "metadata": {},
   "outputs": [],
   "source": [
    "def pend_animation(nsteps, plot_interval=1):\n",
    "    \"\"\"\n",
    "    Solve the pendulum problem with the method defined above using nsteps time steps.\n",
    "    Create an animation showing the swinging pendulum, using the solution every\n",
    "    plot_interval time steps.\n",
    "    \"\"\"\n",
    "   \n",
    "    # compute the solution with the method define above:\n",
    "    t,U = ForwardEuler(nsteps)\n",
    "    \n",
    "    fig = plt.figure(figsize=(11,5))\n",
    "    ax1 = plt.subplot(121)\n",
    "    plot(t,U[0,:],'r')\n",
    "    pi_ticks = pi*array([-1,0,1,2,3,4,5,6])\n",
    "    pi_labels = ['$-\\pi$','0','$\\pi$','$2\\pi$','$3\\pi$','$4\\pi$','$5\\pi$','$6\\pi$']\n",
    "    ax1.set_yticks(pi_ticks)\n",
    "    ax1.set_yticklabels(pi_labels)\n",
    "    ax1.set_xlabel('time')\n",
    "    ax1.set_ylabel('theta')\n",
    "    ax1.grid(True)\n",
    "    \n",
    "    theta = U[0,0]\n",
    "    pendlength = 2.\n",
    "    xpend = pendlength*sin(theta);\n",
    "    ypend = -pendlength*cos(theta);\n",
    "    \n",
    "    ax2 = plt.subplot(122,xlim=(-2.3, 2.3), ylim=(-2.3, 2.3))\n",
    "    ax2.plot([-2.3,2.3],[0,0],'k',linewidth=0.5)\n",
    "    ax2.plot([0,0],[-2.3,2.3],'k',linewidth=0.5)\n",
    "    axis('scaled')\n",
    "    ax2.set_xlim(-2.3,2.3)\n",
    "    ax2.set_ylim(-2.3,2.3)\n",
    "    \n",
    "    def init():\n",
    "        shaft, = ax2.plot([0,xpend], [0,ypend], linestyle='-', color='lightblue', lw=2)\n",
    "        bob, = ax2.plot([xpend],[ypend],'o',color='lightblue', markersize=8)\n",
    "        theta_pt, = ax1.plot([t[0]], [U[0,0]], 'o',color='pink')\n",
    "        return (shaft,bob,theta_pt)\n",
    "\n",
    "    shaft,bob,theta_pt = init()\n",
    "    \n",
    "    def fplot(n):\n",
    "        theta = U[0,n]\n",
    "        xpend = pendlength*sin(theta);\n",
    "        ypend = -pendlength*cos(theta);\n",
    "        shaft.set_data([0,xpend], [0,ypend])\n",
    "        shaft.set_color('b')\n",
    "        bob.set_data([xpend], [ypend])\n",
    "        bob.set_color('b')\n",
    "        theta_pt.set_data([t[n]], [U[0,n]])\n",
    "        theta_pt.set_color('k')\n",
    "        return (shaft,bob,theta_pt)\n",
    "\n",
    "    frames_to_plot = range(0, len(t), plot_interval)\n",
    "    close(fig)\n",
    "    return animation.FuncAnimation(fig, fplot, frames=frames_to_plot, interval=100,\n",
    "                                   blit=True,init_func=init,repeat=False)\n"
   ]
  },
  {
   "cell_type": "code",
   "execution_count": null,
   "metadata": {},
   "outputs": [],
   "source": [
    "anim = pend_animation(300,3);"
   ]
  },
  {
   "cell_type": "code",
   "execution_count": null,
   "metadata": {},
   "outputs": [],
   "source": [
    "HTML(anim.to_jshtml())"
   ]
  },
  {
   "cell_type": "code",
   "execution_count": null,
   "metadata": {},
   "outputs": [],
   "source": []
  }
 ],
 "metadata": {
  "kernelspec": {
   "display_name": "Python 3",
   "language": "python",
   "name": "python3"
  },
  "language_info": {
   "codemirror_mode": {
    "name": "ipython",
    "version": 3
   },
   "file_extension": ".py",
   "mimetype": "text/x-python",
   "name": "python",
   "nbconvert_exporter": "python",
   "pygments_lexer": "ipython3",
   "version": "3.6.5"
  }
 },
 "nbformat": 4,
 "nbformat_minor": 2
}
