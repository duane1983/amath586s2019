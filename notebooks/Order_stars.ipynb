{
 "cells": [
  {
   "cell_type": "markdown",
   "metadata": {},
   "source": [
    "# Order stars\n",
    "\n",
    "[AMath 586, Spring Quarter 2019](http://staff.washington.edu/rjl/classes/am586s2019/) at the University of Washington. For other notebooks, see [Index.ipynb](Index.ipynb) or the [Index of all notebooks on Github](https://github.com/rjleveque/amath586s2019/blob/master/notebooks/Index.ipynb).\n",
    "\n",
    "Plot the region of relative stability, also called the order star, for various 1-step methods.\n",
    "\n",
    "The general approach is to apply the method to $u' = \\lambda u$ with time step $k$ to obtain $U^{n+1} = R(z) U^n$, where $R(z)$ is a rational function of $z=k\\lambda$ (a polynomial for an explicit method).  Then evaluate $|R(z)/e^z|$ on a grid of points in the complex plane and do a filled contour plot that shows the regions where $|R(z)/e^z| \\leq 1$.   "
   ]
  },
  {
   "cell_type": "code",
   "execution_count": null,
   "metadata": {},
   "outputs": [],
   "source": [
    "%pylab inline"
   ]
  },
  {
   "cell_type": "code",
   "execution_count": null,
   "metadata": {},
   "outputs": [],
   "source": [
    "seterr(divide='ignore', invalid='ignore')  # suppress divide by zero warnings"
   ]
  },
  {
   "cell_type": "code",
   "execution_count": null,
   "metadata": {},
   "outputs": [],
   "source": [
    "from ipywidgets import interact"
   ]
  },
  {
   "cell_type": "code",
   "execution_count": null,
   "metadata": {},
   "outputs": [],
   "source": [
    "def plotOS(R, axisbox = [-10, 10, -10, 10], npts=500):\n",
    "    \"\"\"\n",
    "    Compute |R(z)| over a fine grid on the region specified by axisbox\n",
    "    and do a contour plot to show the region of absolute stability.\n",
    "    \"\"\"\n",
    "\n",
    "    xa, xb, ya, yb = axisbox\n",
    "    x = linspace(xa,xb,npts)\n",
    "    y = linspace(ya,yb,npts)\n",
    "    X,Y = meshgrid(x,y)\n",
    "    Z = X + 1j*Y\n",
    "    Rval = R(Z)\n",
    "    Rrel = abs(Rval / exp(Z))\n",
    "    \n",
    "    # plot interior, exterior, as green and white:\n",
    "    levels = [-1e9,1,1e9]\n",
    "    CS1 = contourf(X, Y, Rrel, levels, colors = ('g', 'w'))\n",
    "\n",
    "    # plot boundary as a black curve:\n",
    "    CS2 = contour(X, Y, Rrel, [1,], colors = ('k',), linewidths = (2,))\n",
    "    \n",
    "    title('Order Star')\n",
    "    grid(True)\n",
    "    plot([xa,xb],[0,0],'k')  # x-axis\n",
    "    plot([0,0],[ya,yb],'k')  # y-axis\n",
    "\n",
    "    axis('scaled')  # scale x and y same so that circles are circular\n",
    "    axis(axisbox)   # set limits"
   ]
  },
  {
   "cell_type": "code",
   "execution_count": null,
   "metadata": {},
   "outputs": [],
   "source": [
    "R = lambda z: 1+z\n",
    "plotOS(R, axisbox=[-5,5,-5,5])"
   ]
  },
  {
   "cell_type": "markdown",
   "metadata": {},
   "source": [
    "## Theta method"
   ]
  },
  {
   "cell_type": "code",
   "execution_count": null,
   "metadata": {},
   "outputs": [],
   "source": [
    "def plotOS_theta(theta):\n",
    "    R = lambda z: (1. + (1-theta)*z) / (1-theta*z)\n",
    "    figure(figsize=(6,6))\n",
    "    plotOS(R, npts=200)  # use fewer points so interact works well\n",
    "    title(\"Order star for theta-method with theta = %4.2f\" % theta)"
   ]
  },
  {
   "cell_type": "markdown",
   "metadata": {},
   "source": [
    "For $\\theta=1/2$ this is the Trapezoid method, which is second order accurate, and so the order star has 3 sectors inside the region of relative stability near $z=0$:"
   ]
  },
  {
   "cell_type": "code",
   "execution_count": null,
   "metadata": {},
   "outputs": [],
   "source": [
    "plotOS_theta(0.5)"
   ]
  },
  {
   "cell_type": "markdown",
   "metadata": {},
   "source": [
    "For all other $\\theta$, the method is only first order accurate and there are only 2 sectors inside/outside the order star near $z=0$:"
   ]
  },
  {
   "cell_type": "code",
   "execution_count": null,
   "metadata": {},
   "outputs": [],
   "source": [
    "interact(plotOS_theta, theta=(0,1,.1));"
   ]
  },
  {
   "cell_type": "markdown",
   "metadata": {},
   "source": [
    "## Taylor series methods\n",
    "\n",
    "For this class of methods we can easily increase the order and observe how the structure near the origin varies:"
   ]
  },
  {
   "cell_type": "code",
   "execution_count": null,
   "metadata": {},
   "outputs": [],
   "source": [
    "def plotOS_TS(r):\n",
    "    def R(z):\n",
    "        # return Rz = 1 + z + 0.5z^2 + ... + (1/r!) z^r\n",
    "        Rz = 1.\n",
    "        term = 1.\n",
    "        for j in range(1,r+1):\n",
    "            term = term * z/float(j)\n",
    "            Rz = Rz + term\n",
    "        return Rz\n",
    "            \n",
    "    figure(figsize=(6,6))\n",
    "    plotOS(R, npts=300)\n",
    "    title('Taylor series method r = %i' % r)"
   ]
  },
  {
   "cell_type": "code",
   "execution_count": null,
   "metadata": {},
   "outputs": [],
   "source": [
    "interact(plotOS_TS, r=(1,20,1));"
   ]
  },
  {
   "cell_type": "markdown",
   "metadata": {},
   "source": [
    "Note that the way this computation is done it is subject to a lot of cancellation near $z=0$, so plots above do not look correct in this region, particularly for $r>15$ or so -- there should be $r+1$ green sectors and $r+1$ white sectors approaching the origin.\n",
    "\n",
    "Here's a better version for the particular case of high-degree Taylor series methods:"
   ]
  },
  {
   "cell_type": "code",
   "execution_count": null,
   "metadata": {},
   "outputs": [],
   "source": [
    "def plotOS_TS(r):\n",
    "    def R(z):\n",
    "        # return Rz = 1 + z + 0.5z^2 + ... + (1/r!) z^r\n",
    "        from math import factorial\n",
    "            \n",
    "        Rz = 1.\n",
    "        term = 1.\n",
    "        for j in range(1,r+1):\n",
    "            term = term * z/float(j)\n",
    "            Rz = Rz + term\n",
    "        \n",
    "        # for small z when r is large, \n",
    "        # it's better to compute the remainder\n",
    "        remainder = 0.\n",
    "        term = 1./factorial(r) \n",
    "        for j in range(r+1, 2*r):\n",
    "            term = term * z/float(j)\n",
    "            remainder = remainder + term\n",
    "        remainder *= z**r \n",
    "        \n",
    "        # Define this so that contours of |R(z)/exp(z)| = 1 \n",
    "        # look right near origin:\n",
    "        Rz_smallz = where(real(remainder/exp(z))>0., 0.5*exp(z), 2*exp(z))           \n",
    "        Rz = where(abs(z**(r+1)/factorial(r+1)) > 1e-10, Rz, Rz_smallz)\n",
    "        \n",
    "        return Rz\n",
    "            \n",
    "    figure(figsize=(6,6))\n",
    "    plotOS(R, npts=500)\n",
    "    title('Taylor series method r = %i' % r)"
   ]
  },
  {
   "cell_type": "code",
   "execution_count": null,
   "metadata": {},
   "outputs": [],
   "source": [
    "interact(plotOS_TS, r=(1,30,1));"
   ]
  }
 ],
 "metadata": {
  "kernelspec": {
   "display_name": "Python 2",
   "language": "python",
   "name": "python2"
  },
  "language_info": {
   "codemirror_mode": {
    "name": "ipython",
    "version": 3
   },
   "file_extension": ".py",
   "mimetype": "text/x-python",
   "name": "python",
   "nbconvert_exporter": "python",
   "pygments_lexer": "ipython3",
   "version": "3.6.5"
  }
 },
 "nbformat": 4,
 "nbformat_minor": 1
}
