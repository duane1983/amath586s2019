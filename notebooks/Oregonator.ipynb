{
 "cells": [
  {
   "cell_type": "markdown",
   "metadata": {},
   "source": [
    "# The Oregonator Model\n",
    "\n",
    "\n",
    "[AMath 586, Spring Quarter 2019](http://staff.washington.edu/rjl/classes/am586s2019/) at the University of Washington. For other notebooks, see [Index.ipynb](Index.ipynb) or the [Index of all notebooks on Github](https://github.com/rjleveque/amath586s2019/blob/master/notebooks/Index.ipynb).\n",
    "\n",
    "This notebook illustrates use of the [Scipy](https://scipy.org/) routine `odeint` for solving the initial value problem, which is also in older versions of Scipy and has similar capabilities to the `solve_ivp` routine used in [Example_using_solve_ivp.ipynb](Example_using_solve_ivp.ipynb).\n",
    "\n",
    "This is a simple ODE model for the [Belousov Zhabotinsky reaction](http://www.scholarpedia.org/article/Belousov-Zhabotinsky_reaction), a chemical oscillation.  The latter part of the notebook illustrates how eigenvalues of the Jacobian matrix vary in time and how this plays into stability theory."
   ]
  },
  {
   "cell_type": "code",
   "execution_count": null,
   "metadata": {},
   "outputs": [],
   "source": [
    "%pylab inline"
   ]
  },
  {
   "cell_type": "markdown",
   "metadata": {},
   "source": [
    "The chemical reactions are most dramatic when they vary in space, as seen for example in this video:  \n",
    "\n",
    "(You can find many other videos on this phenomenon online)"
   ]
  },
  {
   "cell_type": "code",
   "execution_count": null,
   "metadata": {},
   "outputs": [],
   "source": [
    "from IPython.display import YouTubeVideo\n",
    "\n",
    "YouTubeVideo('PpyKSRo8Iec')"
   ]
  },
  {
   "cell_type": "markdown",
   "metadata": {},
   "source": [
    "Modelling these time-dependent spatial patterns can be done by solving reaction-diffusion equations, partial differential equations in space and time that we will study later in the quarter.\n",
    "\n",
    "If the reactions take place in a well-stirred container, then oscillatory changes in color can be observed that are spatially uniform and vary only in time, and hence can be modelled with time-dependent ODEs.  We will study ODEs coming from chemical kinetics as a good model problem for numerical methods (see Section 7.4 of the book).\n",
    "\n",
    "Here's a video accompanied by some discussion of the chemical reactions:"
   ]
  },
  {
   "cell_type": "code",
   "execution_count": null,
   "metadata": {},
   "outputs": [],
   "source": [
    "YouTubeVideo('uWh8reiXq58')"
   ]
  },
  {
   "cell_type": "markdown",
   "metadata": {},
   "source": [
    "## Oregonator model\n",
    "\n",
    "This model was developed by Field and Noyes at the University of Oregon in 1974, see for example http://www.scholarpedia.org/article/Oregonator\n",
    "\n",
    "$$\n",
    "\\begin{split}\n",
    "\\epsilon_1 u_0'(t) &= qu_1(t) - u_0(t)u_1(t) + u_0(t)(1 - u_0(t)) \\\\\n",
    "\\epsilon_2 u_1'(t) &= -qu_1(t) - u_0(t)u_1(t) + \\phi u_2(t)\\\\\n",
    "u_2'(t) &= u_0(t) - u_2(t)\n",
    "\\end{split}\n",
    "$$\n",
    "\n",
    "Note that the vector $u(t)$ has been written with components $u(t) = [u_0(t),~ u_1(t),~ u_2(t)]$  to match the Python convention of 0-based indexing.\n",
    "\n",
    "### Numerical solution:\n",
    "\n",
    "We set up the function to compute $f(u,t)$ for this system, with one particular choice of the parameters:"
   ]
  },
  {
   "cell_type": "code",
   "execution_count": null,
   "metadata": {},
   "outputs": [],
   "source": [
    "e1 = 0.1 \n",
    "e2 = 0.1 \n",
    "q = 0.01 \n",
    "phi = 1.\n",
    "\n",
    "def f(u,t):\n",
    "    f0 = 1./e1 * (q*u[1] - u[0]*u[1] + u[0]*(1.-u[0]))\n",
    "    f1 = 1./e2 * (-q*u[1] - u[0]*u[1] + phi*u[2])\n",
    "    f2 = u[0] - u[2]\n",
    "    f = array([f0, f1, f2])  # return as array rather than list to use in Euler below.\n",
    "    return f"
   ]
  },
  {
   "cell_type": "markdown",
   "metadata": {},
   "source": [
    "Set `tout` to be the vector of desired output times, and `eta` to be the initial conditions at time 0:"
   ]
  },
  {
   "cell_type": "code",
   "execution_count": null,
   "metadata": {},
   "outputs": [],
   "source": [
    "tout = linspace(0,50,501)\n",
    "eta = array([1., 1., 1.])"
   ]
  },
  {
   "cell_type": "markdown",
   "metadata": {},
   "source": [
    "### Use an ODE solver from SciPy:\n",
    "\n",
    "We first import the solver and then use it.\n",
    "\n",
    "For documentation, see http://docs.scipy.org/doc/scipy/reference/generated/scipy.integrate.odeint.html"
   ]
  },
  {
   "cell_type": "code",
   "execution_count": null,
   "metadata": {},
   "outputs": [],
   "source": [
    "from scipy.integrate import odeint"
   ]
  },
  {
   "cell_type": "code",
   "execution_count": null,
   "metadata": {},
   "outputs": [],
   "source": [
    "u = odeint(f, eta, tout)"
   ]
  },
  {
   "cell_type": "markdown",
   "metadata": {},
   "source": [
    "Now plot the solution, using a logarithmic scale so that the oscillations can be seen more clearly.  Label each line so that we can tell which component is which:"
   ]
  },
  {
   "cell_type": "code",
   "execution_count": null,
   "metadata": {},
   "outputs": [],
   "source": [
    "figure(figsize=(12,5))  # make the figure wider than the default\n",
    "semilogy(tout,u[:,0], label='u0')\n",
    "semilogy(tout,u[:,1], label='u1')\n",
    "semilogy(tout,u[:,2], label='u2')\n",
    "xlim(0,60)  # make room for the legend\n",
    "legend()  # uses the labels from the plot commands"
   ]
  },
  {
   "cell_type": "markdown",
   "metadata": {},
   "source": [
    "You can get information about how the ODE solver worked on this problem by setting the `full_output` parameter to `True`, in which case it returns the solution and also a Python dictionary of information.  "
   ]
  },
  {
   "cell_type": "code",
   "execution_count": null,
   "metadata": {},
   "outputs": [],
   "source": [
    "u, infodict = odeint(f, eta, tout, full_output=True)"
   ]
  },
  {
   "cell_type": "markdown",
   "metadata": {},
   "source": [
    "For example, `infodict['hu']` contains the time step used in each step and `infodict['nfe']` the cumulative number of `f` evaluations.  See http://docs.scipy.org/doc/scipy/reference/generated/scipy.integrate.odeint.html\n",
    "for more details."
   ]
  },
  {
   "cell_type": "code",
   "execution_count": null,
   "metadata": {},
   "outputs": [],
   "source": [
    "figure(figsize=(12,5))\n",
    "subplot(1,2,1)\n",
    "plot(infodict['hu'])\n",
    "title('size of time step in each step')\n",
    "subplot(1,2,2)\n",
    "plot(infodict['nfe'])\n",
    "title('Cumulative number of f evals')"
   ]
  },
  {
   "cell_type": "markdown",
   "metadata": {},
   "source": [
    "## Forward Euler method\n",
    "\n",
    "Here's a simple implementation of Forward Euler for this same problem:"
   ]
  },
  {
   "cell_type": "code",
   "execution_count": null,
   "metadata": {},
   "outputs": [],
   "source": [
    "t0 = tout[0]\n",
    "tfinal = tout[-1]\n",
    "\n",
    "def euler(nsteps):\n",
    "    t = linspace(t0, tfinal, nsteps+1)\n",
    "    dt = t[1] - t[0]\n",
    "    U = empty((3,nsteps+1))  # array for computed solution\n",
    "    U[:,0] = eta\n",
    "    \n",
    "    z = empty((3,nsteps), dtype=complex)\n",
    "    \n",
    "    for n in range(nsteps):\n",
    "        U[:,n+1] = U[:,n] + dt * f(U[:,n], t[n])\n",
    "        \n",
    "    figure(figsize=(12,5))\n",
    "    semilogy(t, U[0,:],'k', label='u0')\n",
    "    semilogy(t, U[1,:],'b', label='u1')\n",
    "    semilogy(t, U[2,:],'r', label='u2')\n",
    "    plot(tout, u[:,0],'k--',label='odeint u0') \n",
    "    plot(tout, u[:,1],'b--',label='odeint u1')\n",
    "    plot(tout, u[:,2],'r--',label='odeint u2') \n",
    "    xlim(0,60)  # make room for the legend\n",
    "    legend()  # uses the labels from the plot commands\n",
    "    title('%i steps, dt = %7.4f' % (nsteps, dt))"
   ]
  },
  {
   "cell_type": "markdown",
   "metadata": {},
   "source": [
    "With 1500 steps the solution looks pretty good, but if the number of steps is reduced to say 1200, (larger $\\Delta t$) then it blows up."
   ]
  },
  {
   "cell_type": "code",
   "execution_count": null,
   "metadata": {},
   "outputs": [],
   "source": [
    "euler(1500)"
   ]
  },
  {
   "cell_type": "markdown",
   "metadata": {},
   "source": [
    "## Examine the eigenvalues of the Jacobian matrix:"
   ]
  },
  {
   "cell_type": "code",
   "execution_count": null,
   "metadata": {},
   "outputs": [],
   "source": [
    "def J(u,t):\n",
    "    \"\"\"\n",
    "    Jacobian matrix for the Oregonator system.\n",
    "    Note that it is independent of t for this autonomous system,\n",
    "    but does depend on u since the problem is nonlinear.\n",
    "    \"\"\"\n",
    "    df1du = 1/e1 * array([-u[1]+1-2*u[0], q-u[0], 0.])\n",
    "    df2du = 1/e2 * array([-u[1], -q-u[0], phi])\n",
    "    df3du = array([1., 0., -1.])\n",
    "    J = vstack((df1du, df2du, df3du))\n",
    "    return J"
   ]
  },
  {
   "cell_type": "code",
   "execution_count": null,
   "metadata": {},
   "outputs": [],
   "source": [
    "def sorted_eig(A):\n",
    "    \"\"\"\n",
    "    Compute the eigenvalues of A and sort them by absolute value\n",
    "    \"\"\"\n",
    "    lam, R = eig(A)\n",
    "    # Sort eigenvalues:\n",
    "    i = list(argsort(abs(lam)))\n",
    "    i.reverse()\n",
    "    lam = lam[i]\n",
    "    R = R[:,i]  # reorder eigenvectors the same way\n",
    "    return lam, R"
   ]
  },
  {
   "cell_type": "code",
   "execution_count": null,
   "metadata": {},
   "outputs": [],
   "source": [
    "# Examples:\n",
    "for utest in ([1,0.1,0.1], [0.4,0.4,0.4]):\n",
    "    print(\"\\nFor u = %s\" % utest)\n",
    "    Ju = J(utest,0)\n",
    "    lam, R = sorted_eig(Ju)\n",
    "    print(\"Jacobian:\\n\", Ju)\n",
    "    print(\"eigenvalues: \",lam)"
   ]
  },
  {
   "cell_type": "markdown",
   "metadata": {},
   "source": [
    "Note that for the second choice of u, two of the eigenvalues are complex and in the right half plane. "
   ]
  },
  {
   "cell_type": "markdown",
   "metadata": {},
   "source": [
    "### A version of forward Euler that computes and plots eigenvalues of J:\n",
    "\n",
    "Actually plots $\\Delta t \\lambda_j$ for  $j = 0,~1,~2$ and compares to the stability region of Forward Euler."
   ]
  },
  {
   "cell_type": "code",
   "execution_count": null,
   "metadata": {},
   "outputs": [],
   "source": [
    "def euler_plot_lam(nsteps):\n",
    "    t = linspace(t0, tfinal, nsteps+1)\n",
    "    dt = t[1] - t[0]\n",
    "    U = empty((3,nsteps+1))  # array for computed solution\n",
    "    U[:,0] = eta\n",
    "    \n",
    "    z = empty((3,nsteps), dtype=complex)\n",
    "    \n",
    "    for n in range(nsteps):\n",
    "        U[:,n+1] = U[:,n] + dt * f(U[:,n], t[n])\n",
    "        Ju = J(U[:,n], t[n])\n",
    "        lam, R = sorted_eig(Ju)\n",
    "        z[:,n] = dt*lam\n",
    "        \n",
    "    figure(figsize=(12,8))\n",
    "    for sp in [1,2]:\n",
    "        subplot(1,2,sp)\n",
    "            \n",
    "        # plot z = k*lam at every time step:\n",
    "        plot(real(z[0,:]), imag(z[0,:]), 'bo')\n",
    "        plot(real(z[1,:]), imag(z[1,:]), 'ro')\n",
    "        plot(real(z[2,:]), imag(z[2,:]), 'go')\n",
    "\n",
    "        # plot stability region of forward Euler:\n",
    "        theta = linspace(0, 2*pi, 1000)\n",
    "        plot(cos(theta)-1., sin(theta), 'k')\n",
    "\n",
    "        # plot imaginary axis:\n",
    "        plot([0,0], [-2,2], 'k')\n",
    "\n",
    "        axis('scaled')\n",
    "        if sp==1:\n",
    "            axis([-2.5, 0.5, -1.5, 1.5])\n",
    "        else:\n",
    "            axis([-.2,.2,-.2,.2])\n",
    "                \n",
    "        title('k*lam at each step')\n",
    "    \n",
    "    return t,z"
   ]
  },
  {
   "cell_type": "code",
   "execution_count": null,
   "metadata": {},
   "outputs": [],
   "source": [
    "t,z = euler_plot_lam(1500)"
   ]
  },
  {
   "cell_type": "code",
   "execution_count": null,
   "metadata": {},
   "outputs": [],
   "source": [
    "g = abs(1 + z)\n",
    "plot(t[:-1],g[0,:],'b')\n",
    "plot(t[:-1],g[1,:],'r')\n",
    "plot(t[:-1],g[2,:],'g')\n",
    "title('|1 + dt*lambda|')"
   ]
  },
  {
   "cell_type": "markdown",
   "metadata": {},
   "source": [
    "Note that we could make $k\\lambda$ for the blue eigenvalue stay in the stability region by taking a smaller time step, but the other eigenvalues always stray into the right half plane."
   ]
  },
  {
   "cell_type": "markdown",
   "metadata": {},
   "source": [
    "## Backward Euler"
   ]
  },
  {
   "cell_type": "markdown",
   "metadata": {},
   "source": [
    "This method stays stable for arbitrary `dt` (though maybe not very accurate if `dt` is much larger)."
   ]
  },
  {
   "cell_type": "code",
   "execution_count": null,
   "metadata": {},
   "outputs": [],
   "source": [
    "def backward_euler(nsteps):\n",
    "    \"\"\"\n",
    "    Uses fsolve to solve the implicit system in each time step.\n",
    "    \"\"\"\n",
    "    from scipy.optimize import fsolve\n",
    "    t = linspace(t0, tfinal, nsteps+1)\n",
    "    dt = t[1] - t[0]\n",
    "    U = empty((3,nsteps+1))  # array for computed solution\n",
    "    U[:,0] = eta\n",
    "    \n",
    "    for n in range(nsteps):\n",
    "        \n",
    "        Un = U[:,n]\n",
    "        tn = t[n]\n",
    "        tnp = t[n+1]\n",
    "        g = lambda u: u - Un - dt*f(u,tnp)\n",
    "        Unp = fsolve(g, Un)\n",
    "            \n",
    "        U[:,n+1] = U[:,n] + dt * f(Unp, t[n+1])  # backward Euler update\n",
    "        \n",
    "    figure(figsize=(12,5))\n",
    "    semilogy(t, U[0,:],'k', label='u0')\n",
    "    semilogy(t, U[1,:],'b', label='u1')\n",
    "    semilogy(t, U[2,:],'r', label='u2')\n",
    "    plot(tout, u[:,0],'k--',label='odeint u0') \n",
    "    plot(tout, u[:,1],'b--',label='odeint u1')\n",
    "    plot(tout, u[:,2],'r--',label='odeint u2') \n",
    "    xlim(0,60)  # make room for the legend\n",
    "    legend()  # uses the labels from the plot commands\n",
    "    title('%i steps, dt = %7.4f' % (nsteps, dt))"
   ]
  },
  {
   "cell_type": "code",
   "execution_count": null,
   "metadata": {},
   "outputs": [],
   "source": [
    "backward_euler(500)"
   ]
  },
  {
   "cell_type": "markdown",
   "metadata": {},
   "source": [
    "## Trapezoidal method\n",
    "\n",
    "This method is A-stable and second order accurate and works pretty well, but since it is not L-stable oscillations are generated if the time step is not sufficiently small."
   ]
  },
  {
   "cell_type": "code",
   "execution_count": null,
   "metadata": {},
   "outputs": [],
   "source": [
    "def trapezoid(nsteps):\n",
    "    from scipy.optimize import fsolve\n",
    "    t = linspace(t0, tfinal, nsteps+1)\n",
    "    dt = t[1] - t[0]\n",
    "    U = empty((3,nsteps+1))  # array for computed solution\n",
    "    U[:,0] = eta\n",
    "    \n",
    "    for n in range(nsteps):\n",
    "        \n",
    "        Un = U[:,n]\n",
    "        tn = t[n]\n",
    "        tnp = t[n+1]\n",
    "        g = lambda u: u - Un - 0.5*dt*f(Un,tn) - 0.5*dt*f(u,tnp)\n",
    "        Unp = fsolve(g, Un)\n",
    "            \n",
    "        U[:,n+1] = Unp\n",
    "        \n",
    "    figure(figsize=(12,5))\n",
    "    semilogy(t, U[0,:],'k', label='u0')\n",
    "    semilogy(t, U[1,:],'b', label='u1')\n",
    "    semilogy(t, U[2,:],'r', label='u2')\n",
    "    plot(tout, u[:,0],'k--',label='odeint u0') \n",
    "    plot(tout, u[:,1],'b--',label='odeint u1')\n",
    "    plot(tout, u[:,2],'r--',label='odeint u2') \n",
    "    xlim(0,60)  # make room for the legend\n",
    "    legend()  # uses the labels from the plot commands\n",
    "    title('%i steps, dt = %7.4f' % (nsteps, dt))"
   ]
  },
  {
   "cell_type": "code",
   "execution_count": null,
   "metadata": {},
   "outputs": [],
   "source": [
    "trapezoid(200)"
   ]
  },
  {
   "cell_type": "code",
   "execution_count": null,
   "metadata": {},
   "outputs": [],
   "source": []
  }
 ],
 "metadata": {
  "kernelspec": {
   "display_name": "Python 3",
   "language": "python",
   "name": "python3"
  },
  "language_info": {
   "codemirror_mode": {
    "name": "ipython",
    "version": 3
   },
   "file_extension": ".py",
   "mimetype": "text/x-python",
   "name": "python",
   "nbconvert_exporter": "python",
   "pygments_lexer": "ipython3",
   "version": "3.6.5"
  }
 },
 "nbformat": 4,
 "nbformat_minor": 1
}
