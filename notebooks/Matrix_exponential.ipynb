{
 "cells": [
  {
   "cell_type": "markdown",
   "metadata": {},
   "source": [
    "# Matrix exponential in Python\n",
    "\n",
    "\n",
    "[AMath 586, Spring Quarter 2019](http://staff.washington.edu/rjl/classes/am586s2019/) at the University of Washington. \n",
    "For other notebooks, see [Index.ipynb](Index.ipynb) or the [Index of all notebooks on Github](https://github.com/rjleveque/amath586s2019/blob/master/notebooks/Index.ipynb).\n",
    "\n",
    "This notebook gives some hints on using the matrix exponential to define the solution of a linear ODE.  It also contains some other hints about linear algebra using Numpy's `ndarray` class and complex arithmetic.\n",
    "\n",
    "See also [Numpy for Matlab Users](https://docs.scipy.org/doc/numpy/user/numpy-for-matlab-users.html) for more tips.\n",
    "\n",
    "For an interesting paper on the difficulties of writing general software to compute the matrix exponential accurately and efficiently, see [Nineteen Dubious Ways to Compute the Exponential of a Matrix, Twenty-Five Years Later](http://epubs.siam.org/doi/abs/10.1137/S00361445024180) by C. Moler and C. Van Loan."
   ]
  },
  {
   "cell_type": "code",
   "execution_count": 1,
   "metadata": {},
   "outputs": [
    {
     "name": "stdout",
     "output_type": "stream",
     "text": [
      "Populating the interactive namespace from numpy and matplotlib\n"
     ]
    }
   ],
   "source": [
    "%pylab inline"
   ]
  },
  {
   "cell_type": "markdown",
   "metadata": {},
   "source": [
    "Consider the ODE $u'(t) = Au$ with $u(0)=\\eta$.  Then the solution can be written as $u(t) = \\exp(At)\\eta$.\n",
    "\n",
    "Consider for example the case with $u(t) = [u_0(t), ~u_1(t)]$ (two components, using Python indexing notation) and\n",
    "$$\n",
    "A = \\left[\\begin{array}{rr} -2 & 0 \\\\ 3 & -1 \\end{array}\\right],\n",
    "$$\n",
    "as used in the notebook [Convergence_testing.ipynb](Convergence_testing.ipynb).\n",
    "\n",
    "For this problem you can work out fairly easily by various means that the solution is\n",
    "$$\n",
    "u_0(t) = \\eta_0 e^{-2t}, \\quad u_1(t) = (\\eta_1 + 3\\eta_0) e^{-t} - 3\\eta_0 e^{-2t},\n",
    "$$\n",
    "For exaple, the first equation is easy to solve directly and the second can then be solved using Duhamel's principle.  This can be coded directly as:"
   ]
  },
  {
   "cell_type": "code",
   "execution_count": 2,
   "metadata": {
    "collapsed": true
   },
   "outputs": [],
   "source": [
    "eta = array([1., -1.])  # some initial conditions\n",
    "utrue_a = lambda t: array([eta[0]*exp(-2*t),  \\\n",
    "                        (eta[1]+3*eta[0])*exp(-t) - 3*eta[0]*exp(-2*t)])"
   ]
  },
  {
   "cell_type": "markdown",
   "metadata": {},
   "source": [
    "Evaluating this at some time returns a 1-dimensional array with 2 components,"
   ]
  },
  {
   "cell_type": "code",
   "execution_count": 3,
   "metadata": {},
   "outputs": [
    {
     "name": "stdout",
     "output_type": "stream",
     "text": [
      "u =  [0.13533528 0.32975303]\n",
      "The shape of u is (2,)\n",
      "The type of u is  <class 'numpy.ndarray'>\n"
     ]
    },
    {
     "data": {
      "text/plain": [
       "array([0.13533528, 0.32975303])"
      ]
     },
     "execution_count": 3,
     "metadata": {},
     "output_type": "execute_result"
    }
   ],
   "source": [
    "u = utrue_a(1.)\n",
    "print(\"u = \", u)\n",
    "print(\"The shape of u is\", u.shape)\n",
    "print(\"The type of u is \", type(u))\n",
    "u  # prints u without formatting it"
   ]
  },
  {
   "cell_type": "markdown",
   "metadata": {},
   "source": [
    "Note that with Python ndarray's there is no distinction between a row vector and a column vector as there is in Matlab.\n",
    "\n",
    "Evaluating this form at a set of $N$ times turns out to give a $2 \\times N$ array:"
   ]
  },
  {
   "cell_type": "code",
   "execution_count": 4,
   "metadata": {},
   "outputs": [
    {
     "name": "stdout",
     "output_type": "stream",
     "text": [
      "The shape of u is  (2, 20)\n"
     ]
    },
    {
     "data": {
      "text/plain": [
       "<matplotlib.legend.Legend at 0x1115eeac8>"
      ]
     },
     "execution_count": 4,
     "metadata": {},
     "output_type": "execute_result"
    },
    {
     "data": {
      "image/png": "[encoded data removed]",
      "text/plain": [
       "<matplotlib.figure.Figure at 0x10f4d6dd8>"
      ]
     },
     "metadata": {},
     "output_type": "display_data"
    }
   ],
   "source": [
    "t = linspace(0,1,20)\n",
    "u = utrue_a(t)\n",
    "print(\"The shape of u is \", u.shape)\n",
    "\n",
    "figure(figsize=(8,3))\n",
    "plot(t, u[0,:], 'b-', label='u0 component')\n",
    "plot(t, u[1,:], 'r-', label='u1 component')\n",
    "legend()"
   ]
  },
  {
   "cell_type": "markdown",
   "metadata": {},
   "source": [
    "The solution used above can be written in matrix-vector form as\n",
    "$$\n",
    "u(t) = \\left[\\begin{array}{rr} e^{-2t}        & 0 \\\\\n",
    "                            3(e^{-t}-e^{-2t}) & e^{-t} \\end{array}\\right] \n",
    "       \\left[\\begin{array}{r} \\eta_0\\\\ \\eta_1 \\end{array}\\right]\n",
    "$$\n",
    "which shows the matrix $\\exp(At)$ and suggests that we could also code the solution as:"
   ]
  },
  {
   "cell_type": "code",
   "execution_count": 5,
   "metadata": {},
   "outputs": [
    {
     "name": "stdout",
     "output_type": "stream",
     "text": [
      "u =  [0.13533528 0.32975303]\n",
      "The shape of u is (2,)\n",
      "Difference from previous solution is  [0. 0.]\n"
     ]
    }
   ],
   "source": [
    "expAt_b = lambda t: array([[exp(-2*t), 0.], [3*(exp(-t)-exp(-2*t)), exp(-t)]])\n",
    "\n",
    "utrue_b = lambda t: dot(expAt_b(t), eta)\n",
    "\n",
    "# test this:\n",
    "u = utrue_b(1.)\n",
    "print(\"u = \", u)\n",
    "print(\"The shape of u is\", u.shape)\n",
    "\n",
    "# compare with the previous solution:\n",
    "udiff = utrue_a(1.) - utrue_b(1.)\n",
    "print(\"Difference from previous solution is \", udiff)"
   ]
  },
  {
   "cell_type": "markdown",
   "metadata": {},
   "source": [
    "In this form we can **not** evaluate at an array of times and get the right result.  Look what happens if you evaluate expAt_b at an array of two times, we get a two-dimensional array of arrays."
   ]
  },
  {
   "cell_type": "code",
   "execution_count": 6,
   "metadata": {},
   "outputs": [
    {
     "name": "stdout",
     "output_type": "stream",
     "text": [
      "t =  [0. 1.]\n",
      "expAt_b(t) = \n",
      "[[array([1.        , 0.13533528]) 0.0]\n",
      " [array([0.        , 0.69763247]) array([1.        , 0.36787944])]]\n"
     ]
    }
   ],
   "source": [
    "t = array([0., 1.])\n",
    "print(\"t = \", t)\n",
    "print(\"expAt_b(t) = \")\n",
    "print(expAt_b(t))"
   ]
  },
  {
   "cell_type": "markdown",
   "metadata": {},
   "source": [
    "So to evaluate at several times you would have to do something like:"
   ]
  },
  {
   "cell_type": "code",
   "execution_count": 7,
   "metadata": {},
   "outputs": [
    {
     "data": {
      "text/plain": [
       "<matplotlib.legend.Legend at 0x111781198>"
      ]
     },
     "execution_count": 7,
     "metadata": {},
     "output_type": "execute_result"
    },
    {
     "data": {
      "image/png": "[encoded data removed]",
      "text/plain": [
       "<matplotlib.figure.Figure at 0x11160e400>"
      ]
     },
     "metadata": {},
     "output_type": "display_data"
    }
   ],
   "source": [
    "t = linspace(0,1,20)\n",
    "u = zeros((2,len(t)))  # or empty\n",
    "\n",
    "for j in range(len(t)):\n",
    "    u[:,j] = utrue_b(t[j])\n",
    "\n",
    "figure(figsize=(8,3))\n",
    "plot(t, u[0,:], 'b-', label='u0 component')\n",
    "plot(t, u[1,:], 'r-', label='u1 component')\n",
    "legend()"
   ]
  },
  {
   "cell_type": "markdown",
   "metadata": {},
   "source": [
    "## The expm function\n",
    "\n",
    "An easy way to compute the matrix exponential is to use [scipy.linalg.expm](http://docs.scipy.org/doc/scipy-0.14.0/reference/generated/scipy.linalg.expm.html), which is similar to the Matlab `expm` function:"
   ]
  },
  {
   "cell_type": "code",
   "execution_count": 8,
   "metadata": {},
   "outputs": [
    {
     "name": "stdout",
     "output_type": "stream",
     "text": [
      "expAt_c(1) = \n",
      " [[ 0.13533528 -0.        ]\n",
      " [ 0.69763247  0.36787944]]\n",
      "\n",
      "expAt_b(1) = \n",
      " [[0.13533528 0.        ]\n",
      " [0.69763247 0.36787944]]\n"
     ]
    }
   ],
   "source": [
    "from scipy.linalg import expm\n",
    "\n",
    "A = array([[-2.,0.], [3.,-1.]])  # defines 2x2 matrix\n",
    "\n",
    "expAt_c = lambda t: expm(A*t)\n",
    "\n",
    "print(\"expAt_c(1) = \\n\", expAt_c(1.))   # \\n gives a new line\n",
    "\n",
    "# compare to the previous version:\n",
    "print(\"\\nexpAt_b(1) = \\n\", expAt_b(1.))"
   ]
  },
  {
   "cell_type": "markdown",
   "metadata": {},
   "source": [
    "This also can't be applied to an array of arguments directly, but you could use a loop to evaluate the true solution.\n",
    "\n",
    "## A more efficient approach\n",
    "\n",
    "The Python `expm` function has to do some work to compute the matrix exponential and if we were evaluating at lots of points and/or had a much larger system of equations, it would be inefficient to evaluate `exp(At)` for lots of different times by applying this function over and over again to different arguments.\n",
    "\n",
    "If the times are equally spaced, we could use the fact that $u(t+k) = \\exp(Ak)u(t)$. So we really only need to compute the matrix $\\exp(Ak)$ once and then apply it repeatedly, e.g.:"
   ]
  },
  {
   "cell_type": "code",
   "execution_count": 9,
   "metadata": {},
   "outputs": [
    {
     "data": {
      "text/plain": [
       "<matplotlib.legend.Legend at 0x112b11a90>"
      ]
     },
     "execution_count": 9,
     "metadata": {},
     "output_type": "execute_result"
    },
    {
     "data": {
      "image/png": "[encoded data removed]",
      "text/plain": [
       "<matplotlib.figure.Figure at 0x1124e32e8>"
      ]
     },
     "metadata": {},
     "output_type": "display_data"
    }
   ],
   "source": [
    "t = linspace(0,1,20)\n",
    "k = t[1] - t[0]  # time step\n",
    "u = zeros((2,len(t)))  # or empty\n",
    "u[:,0] = eta  # first column = initial value at time t[0]\n",
    "\n",
    "expAk = expm(A*k)\n",
    "\n",
    "for j in range(len(t)-1):\n",
    "    u[:,j+1] = dot(expAk, u[:,j])\n",
    "    \n",
    "figure(figsize=(8,3))\n",
    "plot(t, u[0,:], 'b-', label='u0 component')\n",
    "plot(t, u[1,:], 'r-', label='u1 component')\n",
    "legend()"
   ]
  },
  {
   "cell_type": "markdown",
   "metadata": {},
   "source": [
    "## Computing $\\exp(At)\\eta$ directly"
   ]
  },
  {
   "cell_type": "markdown",
   "metadata": {},
   "source": [
    "If $A$ is a matrix that is diagonalizable, so $A=R\\Lambda R^{-1}$ where $\\Lambda$ is diagonal and $R$ is the matrix of linearly independent eigenvectors (so $R^{-1}$ exists), then the matrix exponential is \n",
    "$$\n",
    "\\exp(At) = I + At + \\frac 1 2 A^2t^2 + \\cdots = R\\,\\exp(\\Lambda t)\\,R^{-1}.\n",
    "$$\n",
    "The matrix $\\exp(\\Lambda t)$ is diagonal with elements $\\exp(\\lambda_j t)$  If we define $\\bar w = R^{-1}\\eta$ and $w(t) = \\exp(\\Lambda t)R^{-1}\\eta = \\exp(\\Lambda t)\\bar w$, we can write this as\n",
    "$$\n",
    "w(t) = \\exp(\\Lambda t)R^{-1}\\eta = \\left[\\begin{array}{c} e^{\\lambda_0 t}\\bar w_0\\\\ e^{\\lambda_1 t}\\bar w_1\\end{array}\\right],\n",
    "$$\n",
    "in the case of a $2\\times 2$ matrix $A$, using Python indexing.\n",
    "\n",
    "Then the solution can be written as  $u(t) = R w(t) = R_0 w_0(t) + R_1 w_1(t)$, where $R_0$ and $R_1$ are the columns of $R$ (i.e. the two eigenvectors)."
   ]
  },
  {
   "cell_type": "code",
   "execution_count": 10,
   "metadata": {},
   "outputs": [
    {
     "name": "stdout",
     "output_type": "stream",
     "text": [
      "u =  [0.13533528 0.32975303]\n",
      "The shape of u is (2,)\n",
      "Difference from previous solution is  [ 0.00000000e+00 -5.55111512e-17]\n"
     ]
    }
   ],
   "source": [
    "A = array([[-2.,0.], [3.,-1.]])\n",
    "lam,R = eig(A)\n",
    "\n",
    "eta = array([1., -1.])\n",
    "wbar = solve(R, eta)   # better to solve Rw = eta than to compute inverse matrix\n",
    "\n",
    "utrue_c = lambda t: R[:,0]*exp(lam[0]*t)*wbar[0] + R[:,1]*exp(lam[1]*t)*wbar[1]\n",
    "\n",
    "# test this:\n",
    "u = utrue_c(1.)\n",
    "print(\"u = \", u)\n",
    "print(\"The shape of u is\", u.shape)\n",
    "\n",
    "# compare with the previous solution:\n",
    "udiff = utrue_a(1.) - utrue_c(1.)\n",
    "print(\"Difference from previous solution is \", udiff)"
   ]
  },
  {
   "cell_type": "markdown",
   "metadata": {},
   "source": [
    "Again, you would have to loop over t values to evaluate this at an array of times.\n",
    "\n",
    "Alternatively, you could write a function for the true solution that checks if the input `t` is an array and if so, do the loop inside the function and return an appropriate array. But that's a bit more complicated."
   ]
  },
  {
   "cell_type": "markdown",
   "metadata": {},
   "source": [
    "## Complex eigenvalues\n",
    "\n",
    "Some new issues can arise when working with complex numbers in Python.  A complex number like $3+4i$ where $i=\\sqrt{-1}$ is denoted in Python as `3+4j`.\n",
    "\n",
    "Note that trying to compute `sqrt(-1)` gives an error with the built-in standard `sqrt` function but that you can compute `sqrt(-1+0j)` and it will return `1j`.  \n",
    "\n",
    "The `cmath` module may also be useful for dealing with complex numbers, e.g. `cmath.sqrt(-1)` also returns `1j`.\n",
    "\n",
    "### Non-damped pendulum\n",
    "\n",
    "Consider the simplest linear pendulum problem $\\theta''(t) = \\theta(t)$ with given initial conditions $\\theta(0)=\\eta_0$ and $\\theta'(0)=\\eta_1$.  The solution is $\\theta(t) = \\eta_0\\cos(t) + \\eta_1\\sin(t)$.  If we rewrite the problem as a first order system with $u(t) = [\\theta(t),~\\theta'(t)]^T$, then the system is $u'(t) = Au(t)$ with \n",
    "$$\n",
    "A = \\left[\\begin{array}{rr} 0&1\\\\ -1&0\\end{array}\\right].\n",
    "$$\n",
    "This matrix is skew-symmetric with pure imaginary eigenvalues $\\pm i$. Python computes the normalized eigenvector matrix\n",
    "$$\n",
    "R = \\frac 1 {\\sqrt{2}} \\left[\\begin{array}{rr} 1&1\\\\ i&-i\\end{array}\\right].\n",
    "$$\n",
    "(Normalized so the 2-norm of each column is 1.)\n"
   ]
  },
  {
   "cell_type": "code",
   "execution_count": 11,
   "metadata": {},
   "outputs": [
    {
     "name": "stdout",
     "output_type": "stream",
     "text": [
      "eigenvalues:  [0.+1.j 0.-1.j]\n",
      "eigenvector matrix:\n",
      " [[0.70710678+0.j         0.70710678-0.j        ]\n",
      " [0.        +0.70710678j 0.        -0.70710678j]]\n"
     ]
    }
   ],
   "source": [
    "A = array([[0,1.], [-1.,0]])\n",
    "lam, R = eig(A)\n",
    "print(\"eigenvalues: \",lam)\n",
    "print(\"eigenvector matrix:\\n\", R)"
   ]
  },
  {
   "cell_type": "markdown",
   "metadata": {},
   "source": [
    "Of course the matrix $e^{At}$ is always real (clear from the Taylor series expansion).  If you haven't computed this by hand for this simple case you should do so to see how all the complex exponentials combine to give sines and cosines in $\\theta(t)$ and $\\theta'(t)$.\n",
    "\n",
    "But if we use Python to compute the true solution using the eigendecomposition, the arithmetic will have to take place using complex numbers.  We expect the result to end up being real, which means we expect it to have the form `x+0j`.  (Note: Because of round-off error it might not be exactly real, it might end up with an imaginary part that is very small.)"
   ]
  },
  {
   "cell_type": "code",
   "execution_count": 12,
   "metadata": {},
   "outputs": [
    {
     "name": "stdout",
     "output_type": "stream",
     "text": [
      "wbar =  [0.70710678-0.70710678j 0.70710678+0.70710678j]\n"
     ]
    }
   ],
   "source": [
    "eta = array([1., 1.])\n",
    "wbar = solve(R, eta)   # better to solve Rw = eta than to compute inverse matrix\n",
    "print('wbar = ', wbar)\n",
    "\n",
    "utrue_complex = lambda t: R[:,0]*exp(lam[0]*t)*wbar[0] + R[:,1]*exp(lam[1]*t)*wbar[1]"
   ]
  },
  {
   "cell_type": "code",
   "execution_count": 13,
   "metadata": {},
   "outputs": [
    {
     "data": {
      "text/plain": [
       "array([-1.+0.j, -1.+0.j])"
      ]
     },
     "execution_count": 13,
     "metadata": {},
     "output_type": "execute_result"
    }
   ],
   "source": [
    "utrue_complex(pi)"
   ]
  },
  {
   "cell_type": "markdown",
   "metadata": {},
   "source": [
    "If we try to store the complex arrays in a numpy array as we did before, we get a message saying that it is discarding the imaginary parts:"
   ]
  },
  {
   "cell_type": "code",
   "execution_count": 14,
   "metadata": {},
   "outputs": [
    {
     "name": "stderr",
     "output_type": "stream",
     "text": [
      "/Users/rjl/miniconda/envs/geo/lib/python3.6/site-packages/ipykernel_launcher.py:5: ComplexWarning: Casting complex values to real discards the imaginary part\n",
      "  \"\"\"\n"
     ]
    }
   ],
   "source": [
    "t = linspace(0,2*pi,100)\n",
    "u = zeros((2,len(t)))  # or empty\n",
    "\n",
    "for j in range(len(t)):\n",
    "    u[:,j] = utrue_complex(t[j])\n"
   ]
  },
  {
   "cell_type": "markdown",
   "metadata": {},
   "source": [
    "This is because the `zeros` command created a numpy array that has data type `float64` (double precision floating numbers):"
   ]
  },
  {
   "cell_type": "code",
   "execution_count": 15,
   "metadata": {},
   "outputs": [
    {
     "data": {
      "text/plain": [
       "dtype('float64')"
      ]
     },
     "execution_count": 15,
     "metadata": {},
     "output_type": "execute_result"
    }
   ],
   "source": [
    "u.dtype"
   ]
  },
  {
   "cell_type": "markdown",
   "metadata": {},
   "source": [
    "If you really want to store the solution as complex values (e.g. for a problem where you know the solution is not always real), you could initialize `u` to be an array of complex values:"
   ]
  },
  {
   "cell_type": "code",
   "execution_count": 16,
   "metadata": {},
   "outputs": [
    {
     "data": {
      "text/plain": [
       "array([[1.        +0.j, 1.0614106 +0.j, 1.11854727+0.j],\n",
       "       [1.        +0.j, 0.93456276+0.j, 0.86536236+0.j]])"
      ]
     },
     "execution_count": 16,
     "metadata": {},
     "output_type": "execute_result"
    }
   ],
   "source": [
    "t = linspace(0,2*pi,100)\n",
    "u = zeros((2,len(t)), dtype=complex)\n",
    "\n",
    "for j in range(len(t)):\n",
    "    u[:,j] = utrue_complex(t[j])\n",
    "\n",
    "# print the first few columns to see that they are complex:\n",
    "u[:,:3]"
   ]
  },
  {
   "cell_type": "markdown",
   "metadata": {},
   "source": [
    "This is great, but now you might get a warning about throwing away the imaginary parts if you try to plot the solution.\n",
    "\n",
    "A better approach, since we know the solution is real, is to only keep the real part when defining the true solution:"
   ]
  },
  {
   "cell_type": "code",
   "execution_count": 17,
   "metadata": {},
   "outputs": [
    {
     "data": {
      "text/plain": [
       "(0, 10)"
      ]
     },
     "execution_count": 17,
     "metadata": {},
     "output_type": "execute_result"
    },
    {
     "data": {
      "image/png": "[encoded data removed]",
      "text/plain": [
       "<matplotlib.figure.Figure at 0x112b2b710>"
      ]
     },
     "metadata": {},
     "output_type": "display_data"
    }
   ],
   "source": [
    "def utrue_real(t):\n",
    "    # Write it out as a function so it's clearer\n",
    "    u = R[:,0]*exp(lam[0]*t)*wbar[0] + R[:,1]*exp(lam[1]*t)*wbar[1]\n",
    "    return real(u)\n",
    "\n",
    "t = linspace(0,2*pi,100)\n",
    "u = zeros((2,len(t)))\n",
    "\n",
    "for j in range(len(t)):\n",
    "    u[:,j] = utrue_real(t[j])\n",
    "\n",
    "figure(figsize=(8,3))\n",
    "plot(t, u[0,:], 'b-', label='u0 component')\n",
    "plot(t, u[1,:], 'r-', label='u1 component')\n",
    "legend()\n",
    "xlim(0,10)"
   ]
  }
 ],
 "metadata": {
  "kernelspec": {
   "display_name": "Python 2",
   "language": "python",
   "name": "python2"
  },
  "language_info": {
   "codemirror_mode": {
    "name": "ipython",
    "version": 3
   },
   "file_extension": ".py",
   "mimetype": "text/x-python",
   "name": "python",
   "nbconvert_exporter": "python",
   "pygments_lexer": "ipython3",
   "version": "3.6.2"
  }
 },
 "nbformat": 4,
 "nbformat_minor": 1
}
