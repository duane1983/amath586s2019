{
 "cells": [
  {
   "cell_type": "markdown",
   "metadata": {},
   "source": [
    "# Solving the advection equation\n",
    "\n",
    "\n",
    "[AMath 586, Spring Quarter 2019](http://staff.washington.edu/rjl/classes/am586s2019/) at the University of Washington. For other notebooks, see [Index.ipynb](Index.ipynb) or the [Index of all notebooks on Github](https://github.com/rjleveque/amath586s2019/blob/master/notebooks/Index.ipynb).\n",
    "\n",
    "Sample program to solve the advection equation with periodic boundary conditions.\n"
   ]
  },
  {
   "cell_type": "code",
   "execution_count": null,
   "metadata": {},
   "outputs": [],
   "source": [
    "%pylab inline"
   ]
  },
  {
   "cell_type": "code",
   "execution_count": null,
   "metadata": {},
   "outputs": [],
   "source": [
    "from matplotlib import animation\n",
    "from IPython.display import HTML"
   ]
  },
  {
   "cell_type": "markdown",
   "metadata": {},
   "source": [
    "## Function to make animations of solution:"
   ]
  },
  {
   "cell_type": "code",
   "execution_count": null,
   "metadata": {},
   "outputs": [],
   "source": [
    "def make_animation(adv_input, adv_output, nplot=1):\n",
    "    \n",
    "    \"\"\"\n",
    "    Plot every `nplot` frames of the solution and turn into\n",
    "    an animation.\n",
    "    \"\"\"\n",
    "    xfine = linspace(adv_input.ax,adv_input.bx,1001)\n",
    "    fig, ax = plt.subplots(figsize=(12,6))\n",
    "\n",
    "    ax.set_xlim((adv_input.ax,adv_input.bx))\n",
    "    ax.set_ylim((-1.2, 1.2))\n",
    "\n",
    "    line1, = ax.plot([], [], '+-', color='b', lw=2, label='computed')\n",
    "    line2, = ax.plot([], [], color='r', lw=1, label='true')\n",
    "    ax.legend(loc='lower left')\n",
    "    title1 = ax.set_title('')\n",
    "\n",
    "    def init():\n",
    "        line1.set_data(adv_output.x_computed, adv_output.u_computed[:,0])\n",
    "        line2.set_data(xfine, adv_input.utrue(xfine, adv_input.t0))\n",
    "        title1.set_text('time t = %8.4f' % adv_input.t0)\n",
    "        return (line1,line2,title1)\n",
    "\n",
    "    def animate(n):\n",
    "        line1.set_data(adv_output.x_computed, adv_output.u_computed[:,n])\n",
    "        line2.set_data(xfine, adv_input.utrue(xfine, adv_output.t[n]))\n",
    "        title1.set_text('time t = %8.4f' % adv_output.t[n])\n",
    "        return (line1,line2,title1)\n",
    "\n",
    "    frames = range(0, len(adv_output.t), nplot) # which frames to plot\n",
    "    anim = animation.FuncAnimation(fig, animate, init_func=init,\n",
    "                                   frames=frames,\n",
    "                                   interval=200,\n",
    "                                   repeat=False,\n",
    "                                   blit=True)\n",
    "    close('all')  # so one last frame plot doesn't remain\n",
    "    return anim"
   ]
  },
  {
   "cell_type": "markdown",
   "metadata": {},
   "source": [
    "## Define new classes for input and outputs\n",
    "\n",
    "Note that the `AdvectionSolutionInput` class includes a `time_stepper` attribute that we will set to different functions below in order to test different methods."
   ]
  },
  {
   "cell_type": "code",
   "execution_count": null,
   "metadata": {},
   "outputs": [],
   "source": [
    "class AdvectionSolutionInput(object):\n",
    "    def __init__(self):\n",
    "        # inputs:\n",
    "        self.t0 = 0.\n",
    "        self.tfinal = 1.\n",
    "        self.ax = 0.\n",
    "        self.bx = 1.\n",
    "        self.mx = 39.\n",
    "        self.utrue = None\n",
    "        self.a = 1.\n",
    "        self.nsteps = 10\n",
    "        self.time_stepper = None\n",
    "        \n",
    "class AdvectionSolutionOutput(object):\n",
    "    def __init__(self):\n",
    "        # outputs:\n",
    "        self.h = None\n",
    "        self.dt = None\n",
    "        self.t = None\n",
    "        self.nu = None\n",
    "        self.x_computed = None\n",
    "        self.u_computed = None\n",
    "        self.errors = None"
   ]
  },
  {
   "cell_type": "markdown",
   "metadata": {},
   "source": [
    "## General explicit one-step method"
   ]
  },
  {
   "cell_type": "code",
   "execution_count": null,
   "metadata": {},
   "outputs": [],
   "source": [
    "def ExplicitAdvection(advection_solution_input):\n",
    "    \"\"\"\n",
    "    Solve u_t + a*u_x = 0 on [ax,bx] with periodic boundary conditions,\n",
    "    using centered differences in space and the an arbitrary 1-step method for time stepping,\n",
    "    defined by `advection_solution_input.time_stepper`.\n",
    "    with m+2 grid points (m+1 unknowns), taking nsteps time steps.  \n",
    "    \n",
    "    Input: \n",
    "        `advection_solution_input` should be on object of class `AdvectionSolutionInput`\n",
    "        specifying inputs.\n",
    "    Output:\n",
    "        an object of class `AdvectionSolutionOutput` with the solution and other info.\n",
    "    \n",
    "    This routine can be embedded in a loop on m to test the accuracy.\n",
    "    \n",
    "    Note: the vector x and rows of `u_computed` are of length m+2 and includes both boundary points.\n",
    "    Only one is computed, and then the solution is extended to the other with the periodic BCs.\n",
    "    \n",
    "    \"\"\"\n",
    "        \n",
    "    # unpack the inputs for brevity:\n",
    "    ax = advection_solution_input.ax\n",
    "    bx = advection_solution_input.bx\n",
    "    a = advection_solution_input.a\n",
    "    m = advection_solution_input.mx\n",
    "    utrue = advection_solution_input.utrue\n",
    "    t0 = advection_solution_input.t0\n",
    "    tfinal = advection_solution_input.tfinal\n",
    "    nsteps = advection_solution_input.nsteps\n",
    "    \n",
    "    h = (bx-ax)/float(m+1)    # h = delta x\n",
    "    x = linspace(ax,bx,m+2)   # note x(1)=0 and x(m+2)=1\n",
    "                               # u(1)=g0 and u(m+2)=g1 are known from BC's\n",
    "    dt = tfinal / float(nsteps)\n",
    "    \n",
    "    # initial conditions:\n",
    "    u0 = utrue(x,t0)\n",
    "\n",
    "    t = empty((nsteps+1,), dtype=float)\n",
    "    u_computed = empty((m+2,nsteps+1), dtype=float)\n",
    "\n",
    "    t[0] = t0\n",
    "    error = zeros((m+2,nsteps+1,), dtype=float)\n",
    "    u_computed[:,0] = u0\n",
    "    \n",
    "    nu = a*dt/h  # Courant number\n",
    "    \n",
    "    # main time-stepping loop:\n",
    "    \n",
    "    for n in range(1,nsteps+1):\n",
    "        t[n] = t[n-1] + dt\n",
    "        \n",
    "        # Take a time step:\n",
    "        u_computed[:,n] = advection_solution_input.time_stepper(u_computed[:,n-1], nu, m)\n",
    "        \n",
    "        # augment with boundary value:\n",
    "        u_computed[m+1,n] = u_computed[0,n]\n",
    "        \n",
    "        # compute error at this time:\n",
    "        error[:,n] = u_computed[:,n] - utrue(x,t[n])\n",
    "        \n",
    "        \n",
    "    advection_solution_output = AdvectionSolutionOutput()  # create object for output\n",
    "    advection_solution_output.dt = dt\n",
    "    advection_solution_output.h = h\n",
    "    advection_solution_output.nu = nu\n",
    "    advection_solution_output.t = t\n",
    "    advection_solution_output.x_computed = x\n",
    "    advection_solution_output.u_computed = u_computed\n",
    "    advection_solution_output.error = error \n",
    "    \n",
    "        \n",
    "    return advection_solution_output"
   ]
  },
  {
   "cell_type": "markdown",
   "metadata": {},
   "source": [
    "## Define a smooth solution\n",
    "\n",
    "For any given initial data $u(x,0) = \\eta(x)$ in our interval $0 \\leq x \\leq 1$, the true solution of the advection equation $u_t + au_x=0$ with periodic boundary conditions is simply\n",
    "$$\n",
    "u(x,t) = \\eta(\\text{mod}(x-at, 1))\n",
    "$$\n",
    "where the mod function takes the fractional part and maps $x-at$ back to the interval $[0,1]$. This is generalized in the function below to an arbitrary interval `[ax, bx]`.\n",
    "\n",
    "Here we use the Gaussian $\\eta(x)=\\exp(-\\beta(x - 0.5)^2)$, which for $\\beta$ is sufficiently large, decays to zero sufficiently fast near $x=0$ and $x=1$ that the periodic extension is very smooth, so we use this as an initial test problem.  "
   ]
  },
  {
   "cell_type": "code",
   "execution_count": null,
   "metadata": {},
   "outputs": [],
   "source": [
    "def eta_gaussian(x):\n",
    "    \"\"\"Initial conditions\"\"\"\n",
    "    beta = 600.\n",
    "    return exp(-beta*(x - 0.5)**2)\n",
    "\n",
    "ax = 0.\n",
    "bx = 1.\n",
    "a = 1. # advection velocity\n",
    "\n",
    "def utrue_gaussian(x,t):\n",
    "    \"\"\"\n",
    "    True solution for comparison.\n",
    "    For periodic BC's, we need the periodic extension of eta(x).\n",
    "    Map x-a*t-ax back to interval of length bx-ax\n",
    "    and then evaluate initial data at this point.\n",
    "    \"\"\"\n",
    "    xat = ax + mod(x - a*t - ax, bx-ax)\n",
    "    return eta_gaussian(xat)"
   ]
  },
  {
   "cell_type": "markdown",
   "metadata": {},
   "source": [
    "## Forward Euler time stepping\n",
    "\n",
    "This function takes the computed solution `u` at one time and takes a single time step, returning the resulting array. It is assumed that `u` is an array of length `m+2` that also contains both boundary points. "
   ]
  },
  {
   "cell_type": "code",
   "execution_count": null,
   "metadata": {},
   "outputs": [],
   "source": [
    "def FE_time_stepper(u, nu, m):\n",
    "    # check input:\n",
    "    assert len(u) == m+2, \"Error: u has unexpected length relative to m\"\n",
    "    \n",
    "    # indices of interior points and one boundary point, values to update,\n",
    "    # as in integer numpy array:\n",
    "    J = array(range(0,m+1), dtype=int)\n",
    "\n",
    "    # Create indices J-1 and J+1 with periodic boundary conditions:\n",
    "    J = array(range(0,m+1), dtype=int)\n",
    "    Jm1 = mod(J-1, m+1)\n",
    "    Jp1 = mod(J+1, m+1)\n",
    "    \n",
    "    u_next = empty(u.shape)\n",
    "    u_next[J] = u[J] - 0.5*nu*(u[Jp1] - u[Jm1])\n",
    "    return u_next"
   ]
  },
  {
   "cell_type": "markdown",
   "metadata": {},
   "source": [
    "Recall that this method is Lax-Richtmyer unstable if we fix the Courant number as $k,h \\rightarrow 0$, although it is stable if we set $k = Ch^2$ as $h\\rightarrow 0$.  This suggests we need to take $k$ small relative to $h$ to get reasonable results, but even then the solution grows slowly with time."
   ]
  },
  {
   "cell_type": "code",
   "execution_count": null,
   "metadata": {},
   "outputs": [],
   "source": [
    "advection_solution_input = AdvectionSolutionInput()\n",
    "advection_solution_input.t0 = 0.\n",
    "advection_solution_input.tfinal = 1.\n",
    "advection_solution_input.ax = ax\n",
    "advection_solution_input.bx = bx\n",
    "advection_solution_input.utrue = utrue_gaussian\n",
    "advection_solution_input.a = a\n",
    "\n",
    "advection_solution_input.mx = 99\n",
    "advection_solution_input.nsteps = 1000\n",
    "advection_solution_input.time_stepper = FE_time_stepper\n",
    "\n",
    "advection_solution_output = ExplicitAdvection(advection_solution_input)\n",
    "\n",
    "error_tfinal = abs(advection_solution_output.error[:,-1]).max()\n",
    "print('Using %i time steps' % advection_solution_input.nsteps)\n",
    "print('Courant number nu = %.2f' % advection_solution_output.nu)\n",
    "print('Max-norm Error at t = %6.4f is %12.8f' % (advection_solution_input.tfinal, error_tfinal))"
   ]
  },
  {
   "cell_type": "code",
   "execution_count": null,
   "metadata": {
    "scrolled": false
   },
   "outputs": [],
   "source": [
    "anim = make_animation(advection_solution_input, advection_solution_output, nplot=100)\n",
    "HTML(anim.to_jshtml())  # or use the line below...\n",
    "#HTML(anim.to_html5_video())"
   ]
  },
  {
   "cell_type": "markdown",
   "metadata": {},
   "source": [
    "In addition to growing with time, the numerical solution also becomes oscillatory because this method is very *dispersive*."
   ]
  },
  {
   "cell_type": "markdown",
   "metadata": {},
   "source": [
    "## Lax-Friedrichs\n",
    "\n",
    "The Lax-Friedrichs method is stable provided the Courant number satisfies $|ak/h| \\leq 1$.  However, it is still only first order accurate."
   ]
  },
  {
   "cell_type": "code",
   "execution_count": null,
   "metadata": {},
   "outputs": [],
   "source": [
    "def LxF_time_stepper(u, nu, m):\n",
    "    # check input:\n",
    "    assert len(u) == m+2, \"Error: u has unexpected length relative to m\"\n",
    "    \n",
    "    # indices of interior points and one boundary point,\n",
    "    # as in integer numpy array:\n",
    "    J = array(range(0,m+1), dtype=int)\n",
    "\n",
    "    # Create indices J-1 and J+1 with periodic boundary conditions:\n",
    "    J = array(range(0,m+1), dtype=int)\n",
    "    Jm1 = mod(J-1, m+1)\n",
    "    Jp1 = mod(J+1, m+1)\n",
    "    \n",
    "    u_next = empty(u.shape)\n",
    "    u_next[J] = 0.5*(u[Jm1] + u[Jp1]) - 0.5*nu*(u[Jp1] - u[Jm1])\n",
    "    return u_next"
   ]
  },
  {
   "cell_type": "code",
   "execution_count": null,
   "metadata": {},
   "outputs": [],
   "source": [
    "advection_solution_input = AdvectionSolutionInput()\n",
    "advection_solution_input.t0 = 0.\n",
    "advection_solution_input.tfinal = 1.\n",
    "advection_solution_input.ax = ax\n",
    "advection_solution_input.bx = bx\n",
    "advection_solution_input.utrue = utrue_gaussian\n",
    "advection_solution_input.a = a\n",
    "\n",
    "advection_solution_input.mx = 99\n",
    "advection_solution_input.nsteps = 120\n",
    "advection_solution_input.time_stepper = LxF_time_stepper\n",
    "\n",
    "advection_solution_output = ExplicitAdvection(advection_solution_input)\n",
    "\n",
    "error_tfinal = abs(advection_solution_output.error[:,-1]).max()\n",
    "print('Using %i time steps' % advection_solution_input.nsteps)\n",
    "print('Courant number nu = %.2f' % advection_solution_output.nu)\n",
    "print('Max-norm Error at t = %6.4f is %12.8f' % (advection_solution_input.tfinal, error_tfinal))"
   ]
  },
  {
   "cell_type": "code",
   "execution_count": null,
   "metadata": {},
   "outputs": [],
   "source": [
    "# make an animation of the results, plotting selective frames:\n",
    "anim = make_animation(advection_solution_input, advection_solution_output, nplot=10)\n",
    "HTML(anim.to_jshtml())"
   ]
  },
  {
   "cell_type": "markdown",
   "metadata": {},
   "source": [
    "Note that this behaves very differently from Forward Euler, and gives a very *diffusive* or *dissipative* solution."
   ]
  },
  {
   "cell_type": "markdown",
   "metadata": {},
   "source": [
    "## Lax-Wendroff\n",
    "\n",
    "This method is second-order accurate in both space and time."
   ]
  },
  {
   "cell_type": "code",
   "execution_count": null,
   "metadata": {},
   "outputs": [],
   "source": [
    "def LW_time_stepper(u, nu, m):\n",
    "    # check input:\n",
    "    assert len(u) == m+2, \"Error: u has unexpected length relative to m\"\n",
    "    \n",
    "    # indices of interior points and one boundary point,\n",
    "    # as in integer numpy array:\n",
    "    J = array(range(0,m+1), dtype=int)\n",
    "\n",
    "    # Create indices J-1 and J+1 with periodic boundary conditions:\n",
    "    J = array(range(0,m+1), dtype=int)\n",
    "    Jm1 = mod(J-1, m+1)\n",
    "    Jp1 = mod(J+1, m+1)\n",
    "    \n",
    "    u_next = empty(u.shape)\n",
    "    u_next[J] = u[J] - 0.5*nu*(u[Jp1] - u[Jm1]) \\\n",
    "                + 0.5*nu**2 * (u[Jm1] - 2*u[J] + u[Jp1])\n",
    "    return u_next"
   ]
  },
  {
   "cell_type": "code",
   "execution_count": null,
   "metadata": {},
   "outputs": [],
   "source": [
    "advection_solution_input = AdvectionSolutionInput()\n",
    "advection_solution_input.t0 = 0.\n",
    "advection_solution_input.tfinal = 1.\n",
    "advection_solution_input.ax = ax\n",
    "advection_solution_input.bx = bx\n",
    "advection_solution_input.utrue = utrue_gaussian\n",
    "advection_solution_input.a = a\n",
    "\n",
    "advection_solution_input.mx = 99\n",
    "advection_solution_input.nsteps = 200\n",
    "advection_solution_input.time_stepper = LW_time_stepper\n",
    "\n",
    "advection_solution_output = ExplicitAdvection(advection_solution_input)\n",
    "\n",
    "error_tfinal = abs(advection_solution_output.error[:,-1]).max()\n",
    "print('Using %i time steps' % advection_solution_input.nsteps)\n",
    "print('Courant number nu = %.2f' % advection_solution_output.nu)\n",
    "print('Max-norm Error at t = %6.4f is %12.8f' % (advection_solution_input.tfinal, error_tfinal))"
   ]
  },
  {
   "cell_type": "code",
   "execution_count": null,
   "metadata": {},
   "outputs": [],
   "source": [
    "anim = make_animation(advection_solution_input, advection_solution_output, nplot=20)\n",
    "HTML(anim.to_jshtml())"
   ]
  },
  {
   "cell_type": "markdown",
   "metadata": {},
   "source": [
    "This method is dispersive, but much less so than Forward Euler.  It is stable for $|ak/h| \\leq 1$ and second-order accurate in both space and time."
   ]
  },
  {
   "cell_type": "markdown",
   "metadata": {},
   "source": [
    "### Test the order of accuracy\n",
    "\n",
    "We can test for second order accuracy by fixing the courant number and running the code for a sequence of grid resolutions:"
   ]
  },
  {
   "cell_type": "code",
   "execution_count": null,
   "metadata": {},
   "outputs": [],
   "source": [
    "r_vals = array([1,2,4,8,16,32], dtype=int)\n",
    "\n",
    "m_vals = 50*r_vals - 1\n",
    "nsteps_vals = 75*r_vals\n",
    "\n",
    "E = empty(len(nsteps_vals))\n",
    "h_vals = empty(len(nsteps_vals))\n",
    "\n",
    "# print table header:\n",
    "print(\"   h         dt      Courant #     error      ratio  estimated order\")\n",
    "\n",
    "for j,nsteps in enumerate(nsteps_vals):\n",
    "    advection_solution_input.nsteps = nsteps\n",
    "    advection_solution_input.mx = m_vals[j] \n",
    "    advection_solution_output = ExplicitAdvection(advection_solution_input)\n",
    "    E[j] = abs(advection_solution_output.error[:,-1]).max()\n",
    "    h_vals[j] = advection_solution_output.h\n",
    "    dt = advection_solution_output.dt\n",
    "    nu = advection_solution_output.nu\n",
    "    \n",
    "    if j>0:\n",
    "        ratio = E[j-1] / E[j]\n",
    "    else:\n",
    "        ratio = nan\n",
    "        \n",
    "    p = log(ratio)/log(2)\n",
    "    print(\"%8.6f  %8.6f  %8.4f  %12.8f    %4.2f        %4.2f\" % (h_vals[j], dt, nu, E[j], ratio, p))\n",
    "\n",
    "loglog(h_vals, E, '-o')\n",
    "title('Log-log plot of errors')\n",
    "xlabel('h = Delta x')\n",
    "ylabel('error')"
   ]
  },
  {
   "cell_type": "markdown",
   "metadata": {},
   "source": [
    "Note that second-order accuracy is observed once $h$ is sufficiently small, although for larger $h$ higher order terms in the error expansion dominate."
   ]
  },
  {
   "cell_type": "markdown",
   "metadata": {},
   "source": [
    "## Discontinuous data"
   ]
  },
  {
   "cell_type": "code",
   "execution_count": null,
   "metadata": {},
   "outputs": [],
   "source": [
    "def eta_box(x):\n",
    "    \"\"\"Initial conditions\"\"\"\n",
    "    return where(logical_or(x<0.3, x>0.7), -0.5, 0.5)\n",
    "\n",
    "ax = 0.\n",
    "bx = 1.\n",
    "a = 1. # advection velocity\n",
    "\n",
    "def utrue_box(x,t):\n",
    "    \"\"\"\n",
    "    True solution for comparison.\n",
    "    For periodic BC's, we need the periodic extension of eta(x).\n",
    "    Map x-a*t-ax back to interval of length bx-ax\n",
    "    and then evaluate initial data at this point.\n",
    "    \"\"\"\n",
    "    xat = ax + mod(x - a*t - ax, bx-ax)\n",
    "    return eta_box(xat)"
   ]
  },
  {
   "cell_type": "code",
   "execution_count": null,
   "metadata": {},
   "outputs": [],
   "source": [
    "advection_solution_input = AdvectionSolutionInput()\n",
    "advection_solution_input.t0 = 0.\n",
    "advection_solution_input.tfinal = 1.\n",
    "advection_solution_input.ax = ax\n",
    "advection_solution_input.bx = bx\n",
    "advection_solution_input.utrue = utrue_box\n",
    "advection_solution_input.a = a\n",
    "\n",
    "advection_solution_input.mx = 99\n",
    "advection_solution_input.nsteps = 200\n",
    "advection_solution_input.time_stepper = LW_time_stepper\n",
    "\n",
    "advection_solution_output = ExplicitAdvection(advection_solution_input)\n",
    "\n",
    "error_tfinal = abs(advection_solution_output.error[:,-1]).max()\n",
    "print('Using %i time steps' % advection_solution_input.nsteps)\n",
    "print('Courant number nu = %.2f' % advection_solution_output.nu)\n",
    "print('Max-norm Error at t = %6.4f is %12.8f' % (advection_solution_input.tfinal, error_tfinal))"
   ]
  },
  {
   "cell_type": "code",
   "execution_count": null,
   "metadata": {},
   "outputs": [],
   "source": [
    "anim = make_animation(advection_solution_input, advection_solution_output, nplot=20)\n",
    "HTML(anim.to_jshtml())"
   ]
  },
  {
   "cell_type": "markdown",
   "metadata": {},
   "source": [
    "Oscillations arise near the discontinuities, trailing behind.\n",
    "\n",
    "Note that if we refine the grid, the oscillations do not disappear. They become narrower and more concentrated near the discontinuities, but the amplitude does not decrease:"
   ]
  },
  {
   "cell_type": "code",
   "execution_count": null,
   "metadata": {},
   "outputs": [],
   "source": [
    "advection_solution_input.mx = 499\n",
    "advection_solution_input.nsteps = 1000\n",
    "\n",
    "advection_solution_output = ExplicitAdvection(advection_solution_input)\n",
    "\n",
    "error_tfinal = abs(advection_solution_output.error[:,-1]).max()\n",
    "print('Using %i time steps' % advection_solution_input.nsteps)\n",
    "print('Courant number nu = %.2f' % advection_solution_output.nu)\n",
    "print('Max-norm Error at t = %6.4f is %12.8f' % (advection_solution_input.tfinal, error_tfinal))"
   ]
  },
  {
   "cell_type": "code",
   "execution_count": null,
   "metadata": {},
   "outputs": [],
   "source": [
    "anim = make_animation(advection_solution_input, advection_solution_output, nplot=100)\n",
    "HTML(anim.to_jshtml())"
   ]
  },
  {
   "cell_type": "markdown",
   "metadata": {},
   "source": [
    "## Wave packet data\n",
    "\n",
    "Finally we show wave packet initial data, as discussed briefly in Appendix E.3.10 and for Lax-Wendroff in Example 10.10.  We take \n",
    "\n",
    "$$\n",
    "\\eta(x) = e^{-\\beta (x-0.5)^2} \\cos(\\xi_0 x)\n",
    "$$"
   ]
  },
  {
   "cell_type": "code",
   "execution_count": null,
   "metadata": {},
   "outputs": [],
   "source": [
    "def eta_wavepacket(x):\n",
    "    \"\"\"Initial conditions\"\"\"\n",
    "    beta = 300.\n",
    "    xi0 = 2*pi*20\n",
    "    return exp(-beta*(x - 0.5)**2) * cos(xi0*x)\n",
    "\n",
    "ax = 0.\n",
    "bx = 1.\n",
    "a = 1. # advection velocity\n",
    "\n",
    "def utrue_wavepacket(x,t):\n",
    "    \"\"\"\n",
    "    True solution for comparison.\n",
    "    For periodic BC's, we need the periodic extension of eta(x).\n",
    "    Map x-a*t-ax back to interval of length bx-ax\n",
    "    and then evaluate initial data at this point.\n",
    "    \"\"\"\n",
    "    xat = ax + mod(x - a*t - ax, bx-ax)\n",
    "    return eta_wavepacket(xat)"
   ]
  },
  {
   "cell_type": "markdown",
   "metadata": {},
   "source": [
    "We solve over a longer time period to see how the wave packet propagates too slowly:"
   ]
  },
  {
   "cell_type": "code",
   "execution_count": null,
   "metadata": {},
   "outputs": [],
   "source": [
    "advection_solution_input = AdvectionSolutionInput()\n",
    "advection_solution_input.t0 = 0.\n",
    "advection_solution_input.tfinal = 4.\n",
    "advection_solution_input.ax = ax\n",
    "advection_solution_input.bx = bx\n",
    "advection_solution_input.utrue = utrue_wavepacket\n",
    "advection_solution_input.a = a\n",
    "\n",
    "advection_solution_input.mx = 299\n",
    "advection_solution_input.nsteps = 2000\n",
    "advection_solution_input.time_stepper = LW_time_stepper\n",
    "\n",
    "advection_solution_output = ExplicitAdvection(advection_solution_input)\n",
    "\n",
    "error_tfinal = abs(advection_solution_output.error[:,-1]).max()\n",
    "print('Using %i time steps' % advection_solution_input.nsteps)\n",
    "print('Courant number nu = %.2f' % advection_solution_output.nu)\n",
    "print('Max-norm Error at t = %6.4f is %12.8f' % (advection_solution_input.tfinal, error_tfinal))"
   ]
  },
  {
   "cell_type": "code",
   "execution_count": null,
   "metadata": {},
   "outputs": [],
   "source": [
    "anim = make_animation(advection_solution_input, advection_solution_output, nplot=100)\n",
    "HTML(anim.to_jshtml())"
   ]
  },
  {
   "cell_type": "markdown",
   "metadata": {},
   "source": [
    "We can compute the group velocity predicted for this wave packet with the Lax-Wendroff method (see Example 10.10) and we find that:"
   ]
  },
  {
   "cell_type": "code",
   "execution_count": null,
   "metadata": {},
   "outputs": [],
   "source": [
    "a = 1.\n",
    "nu = 0.6\n",
    "h = 1/300.\n",
    "xi0 = 2*pi*20\n",
    "cg = a - 0.5*a*h**2 * (1-nu**2) * xi0**2\n",
    "print('The group velocity is %.2f' % cg)\n",
    "print('At tfinal=4, the wave packet has only traveled distance %.2f' % (4*cg))"
   ]
  },
  {
   "cell_type": "code",
   "execution_count": null,
   "metadata": {},
   "outputs": [],
   "source": []
  }
 ],
 "metadata": {
  "kernelspec": {
   "display_name": "Python 2",
   "language": "python",
   "name": "python2"
  },
  "language_info": {
   "codemirror_mode": {
    "name": "ipython",
    "version": 3
   },
   "file_extension": ".py",
   "mimetype": "text/x-python",
   "name": "python",
   "nbconvert_exporter": "python",
   "pygments_lexer": "ipython3",
   "version": "3.6.5"
  }
 },
 "nbformat": 4,
 "nbformat_minor": 1
}
