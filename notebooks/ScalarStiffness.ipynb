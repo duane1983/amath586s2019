{
 "cells": [
  {
   "cell_type": "markdown",
   "metadata": {},
   "source": [
    "# A scalar problem illustrating stiffness\n",
    "\n",
    "\n",
    "[AMath 586, Spring Quarter 2019](http://staff.washington.edu/rjl/classes/am586s2019/) at the University of Washington. For other notebooks, see [Index.ipynb](Index.ipynb) or the [Index of all notebooks on Github](https://github.com/rjleveque/amath586s2019/blob/master/notebooks/Index.ipynb).\n",
    "\n",
    "This notebook shows the solution to the ODE\n",
    "\n",
    "$$\n",
    "u'(t) = \\lambda(u(t)-\\cos(t)) - \\sin(t), \\qquad u(t_0) = \\eta\n",
    "$$\n",
    "\n",
    "as $t_0, \\eta,$ and $\\lambda$ are varied.  This ODE is used in Examples 7.1 and 8.1 of [the textbook](http://staff.washington.edu/rjl/fdmbook/).\n",
    "\n",
    "The exact solution is \n",
    "\n",
    "$$\n",
    "u(t) = \\cos(t) + \\exp(\\lambda(t-t_0))(\\eta - \\cos(t_0)).\n",
    "$$\n",
    "\n",
    "Note in particular that if $u(0)=1$ is specified then the solution is just $u(t)=\\cos(t)$ and if $\\lambda=0$ then other solutions remain parallel to this, since in this case the ODE $u'(t)=-\\sin(t)$ has solution $u(t) = \\cos(t) + (\\eta - \\cos(t_0))$. Note that in this case $f(u,t)$ is independent of $u$ and the ODE can be solved by simple integration. \n",
    "\n",
    "If $\\lambda<0$ then solutions decay towards this \"slow solution\".  This equation exhibits *stiffness* when $\\lambda$ is very negative and we wish to compute the solution for over times that are long relative to $-1/\\lambda$."
   ]
  },
  {
   "cell_type": "code",
   "execution_count": null,
   "metadata": {},
   "outputs": [],
   "source": [
    "%matplotlib inline"
   ]
  },
  {
   "cell_type": "code",
   "execution_count": null,
   "metadata": {},
   "outputs": [],
   "source": [
    "from pylab import *\n",
    "from ipywidgets import interact, IntSlider, FloatSlider"
   ]
  },
  {
   "cell_type": "code",
   "execution_count": null,
   "metadata": {},
   "outputs": [],
   "source": [
    "tfinal = 6*pi\n",
    "def utrue(t0, eta, lam):\n",
    "    t = linspace(t0,tfinal,1000)\n",
    "    u = cos(t) + exp(lam*(t-t0))*(eta - cos(t0))\n",
    "    return t,u"
   ]
  },
  {
   "cell_type": "code",
   "execution_count": null,
   "metadata": {},
   "outputs": [],
   "source": [
    "def plot_soln(t0, eta, lam):\n",
    "    t,u = utrue(t0, eta, lam)\n",
    "    figure(figsize=(10,4))\n",
    "    axis([0,tfinal, -3,3])\n",
    "    tequil = linspace(0, tfinal, 1000)\n",
    "    plot(tequil, cos(tequil), 'k', label='solution with $u(0)=1$')\n",
    "    plot([t[0]], [u[0]], 'ro', label='initial data')\n",
    "    plot(t, u, 'r', label='solution with specified data')\n",
    "    legend(loc='upper right')\n",
    "    grid(True)\n",
    "    title('With $\\lambda = %.1f,$' % lam)"
   ]
  },
  {
   "cell_type": "markdown",
   "metadata": {},
   "source": [
    "Here's a typical solution, when $u(3) = 2$ is specified as initial data, with $\\lambda=-2$:"
   ]
  },
  {
   "cell_type": "code",
   "execution_count": null,
   "metadata": {},
   "outputs": [],
   "source": [
    "plot_soln(3, 2, -2)"
   ]
  },
  {
   "cell_type": "markdown",
   "metadata": {},
   "source": [
    "The interact below allows you to vary the parameters.  Note that changing $\\eta$ with $\\lambda=0$ gives solution curves that are \"parallel\" to the slow solution, and that decreasing $\\lambda$ gives decay towards this solution."
   ]
  },
  {
   "cell_type": "code",
   "execution_count": null,
   "metadata": {},
   "outputs": [],
   "source": [
    "interact(plot_soln, t0=IntSlider(min=0,max=10,value=0, description='$t_0$'),\n",
    "         eta=FloatSlider(min=-2.5,max=2.5,step=0.5,value=1., description='$\\eta$'),\n",
    "         lam=FloatSlider(min=-20,max=0,step=0.5,value=0,description='$\\lambda$'));"
   ]
  },
  {
   "cell_type": "code",
   "execution_count": null,
   "metadata": {},
   "outputs": [],
   "source": []
  }
 ],
 "metadata": {
  "kernelspec": {
   "display_name": "Python 3",
   "language": "python",
   "name": "python3"
  },
  "language_info": {
   "codemirror_mode": {
    "name": "ipython",
    "version": 3
   },
   "file_extension": ".py",
   "mimetype": "text/x-python",
   "name": "python",
   "nbconvert_exporter": "python",
   "pygments_lexer": "ipython3",
   "version": "3.6.5"
  }
 },
 "nbformat": 4,
 "nbformat_minor": 2
}
